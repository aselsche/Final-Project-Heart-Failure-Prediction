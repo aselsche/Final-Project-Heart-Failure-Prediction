{
 "cells": [
  {
   "cell_type": "markdown",
   "id": "a1c3bffa-3c58-4776-8031-082e2abe2d27",
   "metadata": {
    "tags": []
   },
   "source": [
    "![image.png](heart.png)\n",
    "\n",
    "## **Heart Failure Prediction**\n",
    "The task of this project is to analyze dataset containing different characteristics of 918 patients to predict heart failures using Python, Machine Learning and data visualization tools. Utilize the pandas data visualization tools to show the correlation between the variables and find out the factors that are most significant factors in heart failure. Utilize machine learning model to create a model to assess the likelihood of a possible heart disease event.\n",
    "**Understanding the terms/characteristics in the dataset**\n",
    "**ChestPainType** - TA: Typical Angina - substernal chest pain precipitated by physical exertion or emotional stress and relieved with rest or nitroglycerin; ATA: Atypical Angina, NAP: Non-Anginal Pain, ASY: Asymptomatic\n",
    "**RestingBP** - resting blood pressure in mm Hg/ millimeters of mercury. A normal reading would be any blood pressure below 120/80 mm Hg and above 90/60 mm Hg in an adult.\n",
    "**Cholesterol** - Total or serum cholesterol measured in [mm/dl]. Below 200 mg/dL -  is desirable/normal; 200-239 mg/dL - borderline high; 240 mg/dL and above - high.\n",
    "RestingECG\n",
    "MaxHR\n",
    "Oldpeak\n",
    "\n",
    "## Predictions: \n",
    "This analysis is trying to find the best model that can detect if a patient will get a heart disease or not. To come up with a solutiom, I will be using the following models: \n",
    "- a LogisticRegression and \n",
    "- RandomForestClassifier. \n",
    "\n",
    "The logistic regression will be a better suited model for this dataset, because I am trying to predict whether the heart failure is going to happen or not. In addition, the features/variables in the dataset potentially highly correlated. The Logistic regression performs well on such data. \n",
    "\n",
    "The random forest fits a number of decision tree classifiers on various sub-samples of the dataset and uses averaging to improve the predictive accuracy and control over-fitting. But in this case, I predict, using the random forest will be overfitting and logistic regression will be more fitted since the heart data that I was provided with is strongly linked together and highly correlated."
   ]
  },
  {
   "cell_type": "markdown",
   "id": "b9b28a8b-f958-4207-bb0a-2ee0b42e6c19",
   "metadata": {},
   "source": [
    "## Step I: Data Preprocessing"
   ]
  },
  {
   "cell_type": "code",
   "execution_count": 3,
   "id": "823976e0-05d1-49aa-94b0-fb9e9d940d18",
   "metadata": {},
   "outputs": [],
   "source": [
    "# Import our dependencies\n",
    "import pandas as pd\n",
    "import matplotlib as plt\n",
    "import matplotlib.pyplot as plt\n",
    "import numpy as np\n",
    "from pathlib import Path\n",
    "import seaborn as sns\n",
    "from sklearn.datasets import make_blobs\n",
    "from sklearn.model_selection import train_test_split\n",
    "from sklearn.metrics import mean_squared_error, r2_score\n",
    "from sklearn.preprocessing import StandardScaler, LabelEncoder"
   ]
  },
  {
   "cell_type": "code",
   "execution_count": 4,
   "id": "39327bef-ed74-4a9a-aab0-7684defae9fd",
   "metadata": {},
   "outputs": [
    {
     "data": {
      "text/html": [
       "<div>\n",
       "<style scoped>\n",
       "    .dataframe tbody tr th:only-of-type {\n",
       "        vertical-align: middle;\n",
       "    }\n",
       "\n",
       "    .dataframe tbody tr th {\n",
       "        vertical-align: top;\n",
       "    }\n",
       "\n",
       "    .dataframe thead th {\n",
       "        text-align: right;\n",
       "    }\n",
       "</style>\n",
       "<table border=\"1\" class=\"dataframe\">\n",
       "  <thead>\n",
       "    <tr style=\"text-align: right;\">\n",
       "      <th></th>\n",
       "      <th>Age</th>\n",
       "      <th>Sex</th>\n",
       "      <th>ChestPainType</th>\n",
       "      <th>RestingBP</th>\n",
       "      <th>Cholesterol</th>\n",
       "      <th>FastingBS</th>\n",
       "      <th>RestingECG</th>\n",
       "      <th>MaxHR</th>\n",
       "      <th>ExerciseAngina</th>\n",
       "      <th>Oldpeak</th>\n",
       "      <th>ST_Slope</th>\n",
       "      <th>HeartDisease</th>\n",
       "    </tr>\n",
       "  </thead>\n",
       "  <tbody>\n",
       "    <tr>\n",
       "      <th>0</th>\n",
       "      <td>40</td>\n",
       "      <td>1</td>\n",
       "      <td>ATA</td>\n",
       "      <td>140</td>\n",
       "      <td>289</td>\n",
       "      <td>0</td>\n",
       "      <td>Normal</td>\n",
       "      <td>172</td>\n",
       "      <td>0</td>\n",
       "      <td>0.0</td>\n",
       "      <td>Up</td>\n",
       "      <td>0</td>\n",
       "    </tr>\n",
       "    <tr>\n",
       "      <th>1</th>\n",
       "      <td>49</td>\n",
       "      <td>0</td>\n",
       "      <td>NAP</td>\n",
       "      <td>160</td>\n",
       "      <td>180</td>\n",
       "      <td>0</td>\n",
       "      <td>Normal</td>\n",
       "      <td>156</td>\n",
       "      <td>0</td>\n",
       "      <td>1.0</td>\n",
       "      <td>Flat</td>\n",
       "      <td>1</td>\n",
       "    </tr>\n",
       "    <tr>\n",
       "      <th>2</th>\n",
       "      <td>37</td>\n",
       "      <td>1</td>\n",
       "      <td>ATA</td>\n",
       "      <td>130</td>\n",
       "      <td>283</td>\n",
       "      <td>0</td>\n",
       "      <td>ST</td>\n",
       "      <td>98</td>\n",
       "      <td>0</td>\n",
       "      <td>0.0</td>\n",
       "      <td>Up</td>\n",
       "      <td>0</td>\n",
       "    </tr>\n",
       "    <tr>\n",
       "      <th>3</th>\n",
       "      <td>48</td>\n",
       "      <td>0</td>\n",
       "      <td>ASY</td>\n",
       "      <td>138</td>\n",
       "      <td>214</td>\n",
       "      <td>0</td>\n",
       "      <td>Normal</td>\n",
       "      <td>108</td>\n",
       "      <td>1</td>\n",
       "      <td>1.5</td>\n",
       "      <td>Flat</td>\n",
       "      <td>1</td>\n",
       "    </tr>\n",
       "    <tr>\n",
       "      <th>4</th>\n",
       "      <td>54</td>\n",
       "      <td>1</td>\n",
       "      <td>NAP</td>\n",
       "      <td>150</td>\n",
       "      <td>195</td>\n",
       "      <td>0</td>\n",
       "      <td>Normal</td>\n",
       "      <td>122</td>\n",
       "      <td>0</td>\n",
       "      <td>0.0</td>\n",
       "      <td>Up</td>\n",
       "      <td>0</td>\n",
       "    </tr>\n",
       "  </tbody>\n",
       "</table>\n",
       "</div>"
      ],
      "text/plain": [
       "   Age  Sex ChestPainType  RestingBP  Cholesterol  FastingBS RestingECG  \\\n",
       "0   40    1           ATA        140          289          0     Normal   \n",
       "1   49    0           NAP        160          180          0     Normal   \n",
       "2   37    1           ATA        130          283          0         ST   \n",
       "3   48    0           ASY        138          214          0     Normal   \n",
       "4   54    1           NAP        150          195          0     Normal   \n",
       "\n",
       "   MaxHR  ExerciseAngina  Oldpeak ST_Slope  HeartDisease  \n",
       "0    172               0      0.0       Up             0  \n",
       "1    156               0      1.0     Flat             1  \n",
       "2     98               0      0.0       Up             0  \n",
       "3    108               1      1.5     Flat             1  \n",
       "4    122               0      0.0       Up             0  "
      ]
     },
     "execution_count": 4,
     "metadata": {},
     "output_type": "execute_result"
    }
   ],
   "source": [
    "#  Import and read the heart.csv.\n",
    "heart = pd.read_csv(\"heart.csv\")\n",
    "#Replacing strings with numbers for Gender and Exercise Angina\n",
    "gender = {'M': 1,'F': 0}\n",
    "heart.Sex = [gender[item] for item in heart.Sex]\n",
    "ex_angina={'N': 0,'Y': 1}\n",
    "heart.ExerciseAngina = [ex_angina[item] for item in heart.ExerciseAngina]\n",
    "heart.head()\n"
   ]
  },
  {
   "cell_type": "code",
   "execution_count": 135,
   "id": "cdb31da2-565b-4988-a378-9f1a081ce682",
   "metadata": {
    "tags": []
   },
   "outputs": [
    {
     "data": {
      "text/plain": [
       "Age                 int64\n",
       "Sex                 int64\n",
       "ChestPainType      object\n",
       "RestingBP           int64\n",
       "Cholesterol         int64\n",
       "FastingBS           int64\n",
       "RestingECG         object\n",
       "MaxHR               int64\n",
       "ExerciseAngina      int64\n",
       "Oldpeak           float64\n",
       "ST_Slope           object\n",
       "HeartDisease        int64\n",
       "dtype: object"
      ]
     },
     "execution_count": 135,
     "metadata": {},
     "output_type": "execute_result"
    }
   ],
   "source": [
    "heart.dtypes"
   ]
  },
  {
   "cell_type": "code",
   "execution_count": 5,
   "id": "613b087d-9ed3-4066-bbc4-47494255d67f",
   "metadata": {},
   "outputs": [
    {
     "data": {
      "text/plain": [
       "(918, 12)"
      ]
     },
     "execution_count": 5,
     "metadata": {},
     "output_type": "execute_result"
    }
   ],
   "source": [
    "heart.shape"
   ]
  },
  {
   "cell_type": "code",
   "execution_count": 6,
   "id": "e9749eb7-5f76-49fd-a786-e2e49ef70561",
   "metadata": {},
   "outputs": [
    {
     "name": "stdout",
     "output_type": "stream",
     "text": [
      "Total NULL Values in each columns\n",
      "*********************************\n",
      "Age               0\n",
      "Sex               0\n",
      "ChestPainType     0\n",
      "RestingBP         0\n",
      "Cholesterol       0\n",
      "FastingBS         0\n",
      "RestingECG        0\n",
      "MaxHR             0\n",
      "ExerciseAngina    0\n",
      "Oldpeak           0\n",
      "ST_Slope          0\n",
      "HeartDisease      0\n",
      "dtype: int64\n"
     ]
    }
   ],
   "source": [
    "# Check the total missing values in each column. A field with a NULL value is the one that has been left blank during the record creation.\n",
    "print(\"Total NULL Values in each columns\")\n",
    "print(\"*********************************\")\n",
    "print(heart.isnull().sum())"
   ]
  },
  {
   "cell_type": "code",
   "execution_count": 7,
   "id": "56187ed4-3b9a-4142-9863-80776f0f31e5",
   "metadata": {},
   "outputs": [
    {
     "data": {
      "text/html": [
       "<style  type=\"text/css\" >\n",
       "#T_9b234_row0_col0,#T_9b234_row1_col0,#T_9b234_row1_col1,#T_9b234_row1_col2,#T_9b234_row1_col6,#T_9b234_row1_col7,#T_9b234_row2_col0,#T_9b234_row3_col0,#T_9b234_row4_col0,#T_9b234_row4_col1,#T_9b234_row4_col2,#T_9b234_row4_col4,#T_9b234_row4_col5,#T_9b234_row4_col6,#T_9b234_row4_col7,#T_9b234_row5_col0,#T_9b234_row6_col0,#T_9b234_row6_col1,#T_9b234_row6_col2,#T_9b234_row6_col4,#T_9b234_row6_col5,#T_9b234_row6_col6,#T_9b234_row6_col7,#T_9b234_row7_col0,#T_9b234_row7_col1,#T_9b234_row7_col3,#T_9b234_row7_col4,#T_9b234_row7_col5,#T_9b234_row8_col0,#T_9b234_row8_col1,#T_9b234_row8_col2,#T_9b234_row8_col4,#T_9b234_row8_col6,#T_9b234_row8_col7{\n",
       "            background-color:  #f7fbff;\n",
       "            color:  #000000;\n",
       "        }#T_9b234_row0_col1{\n",
       "            background-color:  #c1d9ed;\n",
       "            color:  #000000;\n",
       "        }#T_9b234_row0_col2{\n",
       "            background-color:  #e7f0fa;\n",
       "            color:  #000000;\n",
       "        }#T_9b234_row0_col3{\n",
       "            background-color:  #6fb0d7;\n",
       "            color:  #000000;\n",
       "        }#T_9b234_row0_col4{\n",
       "            background-color:  #bfd8ed;\n",
       "            color:  #000000;\n",
       "        }#T_9b234_row0_col5{\n",
       "            background-color:  #c8dcf0;\n",
       "            color:  #000000;\n",
       "        }#T_9b234_row0_col6{\n",
       "            background-color:  #cbdef1;\n",
       "            color:  #000000;\n",
       "        }#T_9b234_row0_col7{\n",
       "            background-color:  #deebf7;\n",
       "            color:  #000000;\n",
       "        }#T_9b234_row1_col3,#T_9b234_row2_col3,#T_9b234_row3_col3,#T_9b234_row4_col3,#T_9b234_row6_col3,#T_9b234_row8_col3{\n",
       "            background-color:  #eff6fc;\n",
       "            color:  #000000;\n",
       "        }#T_9b234_row1_col4,#T_9b234_row1_col5,#T_9b234_row7_col2,#T_9b234_row7_col6,#T_9b234_row8_col5{\n",
       "            background-color:  #f6faff;\n",
       "            color:  #000000;\n",
       "        }#T_9b234_row2_col1{\n",
       "            background-color:  #3787c0;\n",
       "            color:  #000000;\n",
       "        }#T_9b234_row2_col2{\n",
       "            background-color:  #d6e6f4;\n",
       "            color:  #000000;\n",
       "        }#T_9b234_row2_col4,#T_9b234_row5_col4{\n",
       "            background-color:  #3080bd;\n",
       "            color:  #000000;\n",
       "        }#T_9b234_row2_col5,#T_9b234_row5_col6{\n",
       "            background-color:  #4f9bcb;\n",
       "            color:  #000000;\n",
       "        }#T_9b234_row2_col6{\n",
       "            background-color:  #63a8d3;\n",
       "            color:  #000000;\n",
       "        }#T_9b234_row2_col7{\n",
       "            background-color:  #add0e6;\n",
       "            color:  #000000;\n",
       "        }#T_9b234_row3_col1,#T_9b234_row3_col2,#T_9b234_row3_col4,#T_9b234_row3_col5,#T_9b234_row3_col6,#T_9b234_row3_col7,#T_9b234_row5_col3{\n",
       "            background-color:  #08306b;\n",
       "            color:  #f1f1f1;\n",
       "        }#T_9b234_row5_col1{\n",
       "            background-color:  #3181bd;\n",
       "            color:  #000000;\n",
       "        }#T_9b234_row5_col2{\n",
       "            background-color:  #cadef0;\n",
       "            color:  #000000;\n",
       "        }#T_9b234_row5_col5{\n",
       "            background-color:  #4493c7;\n",
       "            color:  #000000;\n",
       "        }#T_9b234_row5_col7{\n",
       "            background-color:  #abd0e6;\n",
       "            color:  #000000;\n",
       "        }#T_9b234_row7_col7{\n",
       "            background-color:  #f5fafe;\n",
       "            color:  #000000;\n",
       "        }</style><table id=\"T_9b234_\" ><thead>    <tr>        <th class=\"blank level0\" ></th>        <th class=\"col_heading level0 col0\" >count</th>        <th class=\"col_heading level0 col1\" >mean</th>        <th class=\"col_heading level0 col2\" >std</th>        <th class=\"col_heading level0 col3\" >min</th>        <th class=\"col_heading level0 col4\" >25%</th>        <th class=\"col_heading level0 col5\" >50%</th>        <th class=\"col_heading level0 col6\" >75%</th>        <th class=\"col_heading level0 col7\" >max</th>    </tr></thead><tbody>\n",
       "                <tr>\n",
       "                        <th id=\"T_9b234_level0_row0\" class=\"row_heading level0 row0\" >Age</th>\n",
       "                        <td id=\"T_9b234_row0_col0\" class=\"data row0 col0\" >918.000000</td>\n",
       "                        <td id=\"T_9b234_row0_col1\" class=\"data row0 col1\" >53.510893</td>\n",
       "                        <td id=\"T_9b234_row0_col2\" class=\"data row0 col2\" >9.432617</td>\n",
       "                        <td id=\"T_9b234_row0_col3\" class=\"data row0 col3\" >28.000000</td>\n",
       "                        <td id=\"T_9b234_row0_col4\" class=\"data row0 col4\" >47.000000</td>\n",
       "                        <td id=\"T_9b234_row0_col5\" class=\"data row0 col5\" >54.000000</td>\n",
       "                        <td id=\"T_9b234_row0_col6\" class=\"data row0 col6\" >60.000000</td>\n",
       "                        <td id=\"T_9b234_row0_col7\" class=\"data row0 col7\" >77.000000</td>\n",
       "            </tr>\n",
       "            <tr>\n",
       "                        <th id=\"T_9b234_level0_row1\" class=\"row_heading level0 row1\" >Sex</th>\n",
       "                        <td id=\"T_9b234_row1_col0\" class=\"data row1 col0\" >918.000000</td>\n",
       "                        <td id=\"T_9b234_row1_col1\" class=\"data row1 col1\" >0.789760</td>\n",
       "                        <td id=\"T_9b234_row1_col2\" class=\"data row1 col2\" >0.407701</td>\n",
       "                        <td id=\"T_9b234_row1_col3\" class=\"data row1 col3\" >0.000000</td>\n",
       "                        <td id=\"T_9b234_row1_col4\" class=\"data row1 col4\" >1.000000</td>\n",
       "                        <td id=\"T_9b234_row1_col5\" class=\"data row1 col5\" >1.000000</td>\n",
       "                        <td id=\"T_9b234_row1_col6\" class=\"data row1 col6\" >1.000000</td>\n",
       "                        <td id=\"T_9b234_row1_col7\" class=\"data row1 col7\" >1.000000</td>\n",
       "            </tr>\n",
       "            <tr>\n",
       "                        <th id=\"T_9b234_level0_row2\" class=\"row_heading level0 row2\" >RestingBP</th>\n",
       "                        <td id=\"T_9b234_row2_col0\" class=\"data row2 col0\" >918.000000</td>\n",
       "                        <td id=\"T_9b234_row2_col1\" class=\"data row2 col1\" >132.396514</td>\n",
       "                        <td id=\"T_9b234_row2_col2\" class=\"data row2 col2\" >18.514154</td>\n",
       "                        <td id=\"T_9b234_row2_col3\" class=\"data row2 col3\" >0.000000</td>\n",
       "                        <td id=\"T_9b234_row2_col4\" class=\"data row2 col4\" >120.000000</td>\n",
       "                        <td id=\"T_9b234_row2_col5\" class=\"data row2 col5\" >130.000000</td>\n",
       "                        <td id=\"T_9b234_row2_col6\" class=\"data row2 col6\" >140.000000</td>\n",
       "                        <td id=\"T_9b234_row2_col7\" class=\"data row2 col7\" >200.000000</td>\n",
       "            </tr>\n",
       "            <tr>\n",
       "                        <th id=\"T_9b234_level0_row3\" class=\"row_heading level0 row3\" >Cholesterol</th>\n",
       "                        <td id=\"T_9b234_row3_col0\" class=\"data row3 col0\" >918.000000</td>\n",
       "                        <td id=\"T_9b234_row3_col1\" class=\"data row3 col1\" >198.799564</td>\n",
       "                        <td id=\"T_9b234_row3_col2\" class=\"data row3 col2\" >109.384145</td>\n",
       "                        <td id=\"T_9b234_row3_col3\" class=\"data row3 col3\" >0.000000</td>\n",
       "                        <td id=\"T_9b234_row3_col4\" class=\"data row3 col4\" >173.250000</td>\n",
       "                        <td id=\"T_9b234_row3_col5\" class=\"data row3 col5\" >223.000000</td>\n",
       "                        <td id=\"T_9b234_row3_col6\" class=\"data row3 col6\" >267.000000</td>\n",
       "                        <td id=\"T_9b234_row3_col7\" class=\"data row3 col7\" >603.000000</td>\n",
       "            </tr>\n",
       "            <tr>\n",
       "                        <th id=\"T_9b234_level0_row4\" class=\"row_heading level0 row4\" >FastingBS</th>\n",
       "                        <td id=\"T_9b234_row4_col0\" class=\"data row4 col0\" >918.000000</td>\n",
       "                        <td id=\"T_9b234_row4_col1\" class=\"data row4 col1\" >0.233115</td>\n",
       "                        <td id=\"T_9b234_row4_col2\" class=\"data row4 col2\" >0.423046</td>\n",
       "                        <td id=\"T_9b234_row4_col3\" class=\"data row4 col3\" >0.000000</td>\n",
       "                        <td id=\"T_9b234_row4_col4\" class=\"data row4 col4\" >0.000000</td>\n",
       "                        <td id=\"T_9b234_row4_col5\" class=\"data row4 col5\" >0.000000</td>\n",
       "                        <td id=\"T_9b234_row4_col6\" class=\"data row4 col6\" >0.000000</td>\n",
       "                        <td id=\"T_9b234_row4_col7\" class=\"data row4 col7\" >1.000000</td>\n",
       "            </tr>\n",
       "            <tr>\n",
       "                        <th id=\"T_9b234_level0_row5\" class=\"row_heading level0 row5\" >MaxHR</th>\n",
       "                        <td id=\"T_9b234_row5_col0\" class=\"data row5 col0\" >918.000000</td>\n",
       "                        <td id=\"T_9b234_row5_col1\" class=\"data row5 col1\" >136.809368</td>\n",
       "                        <td id=\"T_9b234_row5_col2\" class=\"data row5 col2\" >25.460334</td>\n",
       "                        <td id=\"T_9b234_row5_col3\" class=\"data row5 col3\" >60.000000</td>\n",
       "                        <td id=\"T_9b234_row5_col4\" class=\"data row5 col4\" >120.000000</td>\n",
       "                        <td id=\"T_9b234_row5_col5\" class=\"data row5 col5\" >138.000000</td>\n",
       "                        <td id=\"T_9b234_row5_col6\" class=\"data row5 col6\" >156.000000</td>\n",
       "                        <td id=\"T_9b234_row5_col7\" class=\"data row5 col7\" >202.000000</td>\n",
       "            </tr>\n",
       "            <tr>\n",
       "                        <th id=\"T_9b234_level0_row6\" class=\"row_heading level0 row6\" >ExerciseAngina</th>\n",
       "                        <td id=\"T_9b234_row6_col0\" class=\"data row6 col0\" >918.000000</td>\n",
       "                        <td id=\"T_9b234_row6_col1\" class=\"data row6 col1\" >0.404139</td>\n",
       "                        <td id=\"T_9b234_row6_col2\" class=\"data row6 col2\" >0.490992</td>\n",
       "                        <td id=\"T_9b234_row6_col3\" class=\"data row6 col3\" >0.000000</td>\n",
       "                        <td id=\"T_9b234_row6_col4\" class=\"data row6 col4\" >0.000000</td>\n",
       "                        <td id=\"T_9b234_row6_col5\" class=\"data row6 col5\" >0.000000</td>\n",
       "                        <td id=\"T_9b234_row6_col6\" class=\"data row6 col6\" >1.000000</td>\n",
       "                        <td id=\"T_9b234_row6_col7\" class=\"data row6 col7\" >1.000000</td>\n",
       "            </tr>\n",
       "            <tr>\n",
       "                        <th id=\"T_9b234_level0_row7\" class=\"row_heading level0 row7\" >Oldpeak</th>\n",
       "                        <td id=\"T_9b234_row7_col0\" class=\"data row7 col0\" >918.000000</td>\n",
       "                        <td id=\"T_9b234_row7_col1\" class=\"data row7 col1\" >0.887364</td>\n",
       "                        <td id=\"T_9b234_row7_col2\" class=\"data row7 col2\" >1.066570</td>\n",
       "                        <td id=\"T_9b234_row7_col3\" class=\"data row7 col3\" >-2.600000</td>\n",
       "                        <td id=\"T_9b234_row7_col4\" class=\"data row7 col4\" >0.000000</td>\n",
       "                        <td id=\"T_9b234_row7_col5\" class=\"data row7 col5\" >0.600000</td>\n",
       "                        <td id=\"T_9b234_row7_col6\" class=\"data row7 col6\" >1.500000</td>\n",
       "                        <td id=\"T_9b234_row7_col7\" class=\"data row7 col7\" >6.200000</td>\n",
       "            </tr>\n",
       "            <tr>\n",
       "                        <th id=\"T_9b234_level0_row8\" class=\"row_heading level0 row8\" >HeartDisease</th>\n",
       "                        <td id=\"T_9b234_row8_col0\" class=\"data row8 col0\" >918.000000</td>\n",
       "                        <td id=\"T_9b234_row8_col1\" class=\"data row8 col1\" >0.553377</td>\n",
       "                        <td id=\"T_9b234_row8_col2\" class=\"data row8 col2\" >0.497414</td>\n",
       "                        <td id=\"T_9b234_row8_col3\" class=\"data row8 col3\" >0.000000</td>\n",
       "                        <td id=\"T_9b234_row8_col4\" class=\"data row8 col4\" >0.000000</td>\n",
       "                        <td id=\"T_9b234_row8_col5\" class=\"data row8 col5\" >1.000000</td>\n",
       "                        <td id=\"T_9b234_row8_col6\" class=\"data row8 col6\" >1.000000</td>\n",
       "                        <td id=\"T_9b234_row8_col7\" class=\"data row8 col7\" >1.000000</td>\n",
       "            </tr>\n",
       "    </tbody></table>"
      ],
      "text/plain": [
       "<pandas.io.formats.style.Styler at 0x26e9a3a2a30>"
      ]
     },
     "execution_count": 7,
     "metadata": {},
     "output_type": "execute_result"
    }
   ],
   "source": [
    "#styled describe\n",
    "heart.describe().T.style.background_gradient(cmap='Blues')"
   ]
  },
  {
   "cell_type": "code",
   "execution_count": 190,
   "id": "0d97a32e-80f5-4ae6-8844-94b523ce0e6a",
   "metadata": {},
   "outputs": [],
   "source": [
    "#distrubtion of data by age using histogram (look at the matplotlib activities from day 1)"
   ]
  },
  {
   "cell_type": "code",
   "execution_count": 10,
   "id": "85993480-7ca0-4fb6-a5c3-f4f7bdacbe82",
   "metadata": {},
   "outputs": [
    {
     "data": {
      "text/plain": [
       "0    390\n",
       "1    356\n",
       "Name: HeartDisease, dtype: int64"
      ]
     },
     "execution_count": 10,
     "metadata": {},
     "output_type": "execute_result"
    }
   ],
   "source": [
    "# There were 390 patients with < 50% diameter narrowing of arteries, and 356 patients with  > 50% diameter narrowing of arteries [ 1 = heart disease, 0 - no heart disease]\n",
    "clean_df['HeartDisease'].value_counts()"
   ]
  },
  {
   "cell_type": "code",
   "execution_count": 11,
   "id": "0d0dbc7d-172a-49a9-9868-2568fe478744",
   "metadata": {},
   "outputs": [
    {
     "data": {
      "image/png": "[encoded data removed]",
      "text/plain": [
       "<Figure size 720x720 with 2 Axes>"
      ]
     },
     "metadata": {
      "needs_background": "light"
     },
     "output_type": "display_data"
    }
   ],
   "source": [
    "#Correlation Heatmap between the variables\n",
    "corr = clean_df.corr()\n",
    "ax, fig = plt.subplots(figsize=(10,10))\n",
    "sns.heatmap(corr, vmin=-1, cmap='coolwarm', annot=True)\n",
    "plt.show()\n",
    "# read about the correlation heatmap"
   ]
  },
  {
   "cell_type": "code",
   "execution_count": 21,
   "id": "563d772b-c850-45b0-8f9e-7016db242ba6",
   "metadata": {},
   "outputs": [],
   "source": [
    "clean_df=heart[['Sex', 'Age', 'Cholesterol', 'RestingBP', 'FastingBS', 'MaxHR', 'Oldpeak', 'ExerciseAngina', 'HeartDisease']]"
   ]
  },
  {
   "cell_type": "code",
   "execution_count": 22,
   "id": "1f9a6dc8-a281-4e2b-afe9-2e8dc8fd18f5",
   "metadata": {},
   "outputs": [
    {
     "name": "stdout",
     "output_type": "stream",
     "text": [
      "[0.05631247 0.12537573 0.16485852 0.112822   0.05487571 0.15380853\n",
      " 0.13317717 0.19876988]\n"
     ]
    },
    {
     "data": {
      "image/png": "[encoded data removed]",
      "text/plain": [
       "<Figure size 1080x432 with 1 Axes>"
      ]
     },
     "metadata": {},
     "output_type": "display_data"
    }
   ],
   "source": [
    "# Feature Selection\n",
    "plt.rcParams['figure.figsize']=15,6 \n",
    "sns.set_style(\"darkgrid\")\n",
    "x = clean_df.iloc[:, :-1]\n",
    "y = clean_df.iloc[:,-1]\n",
    "\n",
    "from sklearn.ensemble import ExtraTreesClassifier\n",
    "import matplotlib.pyplot as plt\n",
    "model = ExtraTreesClassifier()\n",
    "model.fit(x,y)\n",
    "print(model.feature_importances_) \n",
    "feat_importances = pd.Series(model.feature_importances_, index=x.columns)\n",
    "feat_importances.nlargest(8).plot(kind='barh', color='teal')\n",
    "plt.show()\n",
    "\n",
    "#research it"
   ]
  },
  {
   "cell_type": "markdown",
   "id": "b164d68f-2672-4463-a6a6-d85b9838b74c",
   "metadata": {},
   "source": [
    "## Machine learning -- Logistic Regression on only Cholesterol"
   ]
  },
  {
   "cell_type": "code",
   "execution_count": 253,
   "id": "ef58a6fb-3609-4ddf-b7a0-d70b05e19ed8",
   "metadata": {},
   "outputs": [
    {
     "data": {
      "text/html": [
       "<div>\n",
       "<style scoped>\n",
       "    .dataframe tbody tr th:only-of-type {\n",
       "        vertical-align: middle;\n",
       "    }\n",
       "\n",
       "    .dataframe tbody tr th {\n",
       "        vertical-align: top;\n",
       "    }\n",
       "\n",
       "    .dataframe thead th {\n",
       "        text-align: right;\n",
       "    }\n",
       "</style>\n",
       "<table border=\"1\" class=\"dataframe\">\n",
       "  <thead>\n",
       "    <tr style=\"text-align: right;\">\n",
       "      <th></th>\n",
       "      <th>Cholesterol</th>\n",
       "      <th>HeartDisease</th>\n",
       "    </tr>\n",
       "  </thead>\n",
       "  <tbody>\n",
       "    <tr>\n",
       "      <th>0</th>\n",
       "      <td>289</td>\n",
       "      <td>0</td>\n",
       "    </tr>\n",
       "    <tr>\n",
       "      <th>1</th>\n",
       "      <td>180</td>\n",
       "      <td>1</td>\n",
       "    </tr>\n",
       "  </tbody>\n",
       "</table>\n",
       "</div>"
      ],
      "text/plain": [
       "   Cholesterol  HeartDisease\n",
       "0          289             0\n",
       "1          180             1"
      ]
     },
     "execution_count": 253,
     "metadata": {},
     "output_type": "execute_result"
    }
   ],
   "source": [
    "# Project only Cholesterol column and separate target feature for training data\n",
    "cholesterol_df = clean_df[['Cholesterol','HeartDisease']]\n",
    "cholesterol_df.head(2)"
   ]
  },
  {
   "cell_type": "code",
   "execution_count": 259,
   "id": "28e744ef-751a-4017-aae0-300c4aecf73b",
   "metadata": {},
   "outputs": [],
   "source": [
    "#Load dataset # Split the dataframe into data and target[\"HeartDisease\"]\n",
    "y = cholesterol_df['HeartDisease'].values\n",
    "X = cholesterol_df.drop('HeartDisease', axis=1)"
   ]
  },
  {
   "cell_type": "code",
   "execution_count": 260,
   "id": "ee0d3923-4b1c-4edd-adbd-8a4121a85a3a",
   "metadata": {},
   "outputs": [],
   "source": [
    "# split our data into training and data to utilize across all models\n",
    "from sklearn.model_selection import train_test_split\n",
    "X_train, X_test, y_train, y_test = train_test_split(X, y, random_state=10)"
   ]
  },
  {
   "cell_type": "code",
   "execution_count": 261,
   "id": "d7e34d7d-45f5-430e-8f7a-be9b86d6777d",
   "metadata": {},
   "outputs": [
    {
     "data": {
      "text/plain": [
       "array([0, 0, 1, 1, 1, 1, 0, 0, 0, 1, 1, 1, 0, 1, 0, 0, 1, 1, 1, 1, 1, 1,\n",
       "       0, 0, 0, 0, 1, 0, 1, 0, 1, 0, 0, 1, 0, 1, 0, 1, 0, 0, 0, 1, 1, 1,\n",
       "       0, 0, 0, 0, 1, 0, 0, 1, 0, 0, 1, 0, 1, 1, 0, 0, 0, 0, 0, 1, 1, 1,\n",
       "       0, 1, 0, 1, 1, 1, 0, 1, 0, 1, 1, 0, 0, 0, 0, 1, 0, 0, 1, 0, 0, 0,\n",
       "       0, 0, 0, 0, 0, 0, 0, 1, 0, 1, 0, 0, 0, 0, 1, 0, 1, 0, 0, 1, 0, 0,\n",
       "       1, 1, 0, 0, 1, 0, 1, 0, 0, 0, 0, 0, 0, 0, 0, 0, 0, 0, 1, 0, 1, 1,\n",
       "       0, 1, 0, 0, 1, 1, 0, 0, 1, 0, 1, 1, 0, 0, 1, 1, 0, 0, 0, 1, 1, 0,\n",
       "       1, 0, 0, 0, 0, 1, 0, 0, 0, 1, 0, 1, 0, 0, 1, 0, 0, 0, 1, 1, 0, 1,\n",
       "       0, 1, 0, 0, 0, 1, 0, 1, 0, 1, 0], dtype=int64)"
      ]
     },
     "execution_count": 261,
     "metadata": {},
     "output_type": "execute_result"
    }
   ],
   "source": [
    "# Encode the target column with 1s and 0s (both train and test)\n",
    "X_test = X_test[X_train.columns]\n",
    "target_encoder = LabelEncoder().fit(y_train)\n",
    "y_train = target_encoder.transform(y_train)\n",
    "y_test=target_encoder.transform(y_test)\n",
    "y_test"
   ]
  },
  {
   "cell_type": "code",
   "execution_count": 262,
   "id": "eab63419-7add-4a6d-ac15-dd3fed0cf8cf",
   "metadata": {},
   "outputs": [
    {
     "name": "stdout",
     "output_type": "stream",
     "text": [
      "(559, 1)\n",
      "(187, 1)\n",
      "(559,)\n",
      "(187,)\n"
     ]
    }
   ],
   "source": [
    "# Check the shapes to make sure X_train and X_test have the same number of columns (same with y_train/y_test)\n",
    "print(X_train.shape)\n",
    "print(X_test.shape)\n",
    "print(y_train.shape)\n",
    "print(y_test.shape)"
   ]
  },
  {
   "cell_type": "code",
   "execution_count": 263,
   "id": "99e336ff-9432-4cd3-a34e-c7f260ff9213",
   "metadata": {},
   "outputs": [
    {
     "name": "stdout",
     "output_type": "stream",
     "text": [
      "0.5828877005347594\n",
      "0.5509838998211091\n"
     ]
    }
   ],
   "source": [
    "#this is for 1 column, cholesterol. Using sklearn.linear_model import LogisticRegression\n",
    "lr = LogisticRegression(solver='lbfgs', random_state=10)\n",
    "lr.fit(X_train, y_train)\n",
    "print(lr.score(X_test, y_test))\n",
    "print(lr.score(X_train, y_train))\n",
    "#our score came back with a good fit between train and test data. However, it shows weak prediction."
   ]
  },
  {
   "cell_type": "markdown",
   "id": "1415be0d-cc9b-41ed-865d-c0857e81ba71",
   "metadata": {},
   "source": [
    "### Run LR on Sex"
   ]
  },
  {
   "cell_type": "code",
   "execution_count": 229,
   "id": "ea95b488-10ea-4b83-91b2-555e8f7ba8af",
   "metadata": {},
   "outputs": [
    {
     "data": {
      "text/html": [
       "<div>\n",
       "<style scoped>\n",
       "    .dataframe tbody tr th:only-of-type {\n",
       "        vertical-align: middle;\n",
       "    }\n",
       "\n",
       "    .dataframe tbody tr th {\n",
       "        vertical-align: top;\n",
       "    }\n",
       "\n",
       "    .dataframe thead th {\n",
       "        text-align: right;\n",
       "    }\n",
       "</style>\n",
       "<table border=\"1\" class=\"dataframe\">\n",
       "  <thead>\n",
       "    <tr style=\"text-align: right;\">\n",
       "      <th></th>\n",
       "      <th>Sex</th>\n",
       "      <th>HeartDisease</th>\n",
       "    </tr>\n",
       "  </thead>\n",
       "  <tbody>\n",
       "    <tr>\n",
       "      <th>0</th>\n",
       "      <td>1</td>\n",
       "      <td>0</td>\n",
       "    </tr>\n",
       "    <tr>\n",
       "      <th>1</th>\n",
       "      <td>0</td>\n",
       "      <td>1</td>\n",
       "    </tr>\n",
       "    <tr>\n",
       "      <th>2</th>\n",
       "      <td>1</td>\n",
       "      <td>0</td>\n",
       "    </tr>\n",
       "    <tr>\n",
       "      <th>3</th>\n",
       "      <td>0</td>\n",
       "      <td>1</td>\n",
       "    </tr>\n",
       "  </tbody>\n",
       "</table>\n",
       "</div>"
      ],
      "text/plain": [
       "   Sex  HeartDisease\n",
       "0    1             0\n",
       "1    0             1\n",
       "2    1             0\n",
       "3    0             1"
      ]
     },
     "execution_count": 229,
     "metadata": {},
     "output_type": "execute_result"
    }
   ],
   "source": [
    "# Project only necessary Sex and separate target feature for training data\n",
    "sex_df = clean_df[['Sex', 'HeartDisease']]\n",
    "sex_df.head(4)"
   ]
  },
  {
   "cell_type": "code",
   "execution_count": 230,
   "id": "03ff56af-4fd6-4383-bb41-93739ba84b9f",
   "metadata": {},
   "outputs": [],
   "source": [
    "#Load dataset and slit the dataframe into data and target[\"HeartDisease\"]\n",
    "y = sex_df['HeartDisease'].values\n",
    "X = sex_df.drop('HeartDisease', axis=1)"
   ]
  },
  {
   "cell_type": "code",
   "execution_count": 231,
   "id": "c38aaeec-7e38-4309-a763-099a465a7b70",
   "metadata": {},
   "outputs": [
    {
     "data": {
      "text/plain": [
       "array([0, 0, 1, 1, 1, 1, 0, 0, 0, 1, 1, 1, 0, 1, 0, 0, 1, 1, 1, 1, 1, 1,\n",
       "       0, 0, 0, 0, 1, 0, 1, 0, 1, 0, 0, 1, 0, 1, 0, 1, 0, 0, 0, 1, 1, 1,\n",
       "       0, 0, 0, 0, 1, 0, 0, 1, 0, 0, 1, 0, 1, 1, 0, 0, 0, 0, 0, 1, 1, 1,\n",
       "       0, 1, 0, 1, 1, 1, 0, 1, 0, 1, 1, 0, 0, 0, 0, 1, 0, 0, 1, 0, 0, 0,\n",
       "       0, 0, 0, 0, 0, 0, 0, 1, 0, 1, 0, 0, 0, 0, 1, 0, 1, 0, 0, 1, 0, 0,\n",
       "       1, 1, 0, 0, 1, 0, 1, 0, 0, 0, 0, 0, 0, 0, 0, 0, 0, 0, 1, 0, 1, 1,\n",
       "       0, 1, 0, 0, 1, 1, 0, 0, 1, 0, 1, 1, 0, 0, 1, 1, 0, 0, 0, 1, 1, 0,\n",
       "       1, 0, 0, 0, 0, 1, 0, 0, 0, 1, 0, 1, 0, 0, 1, 0, 0, 0, 1, 1, 0, 1,\n",
       "       0, 1, 0, 0, 0, 1, 0, 1, 0, 1, 0], dtype=int64)"
      ]
     },
     "execution_count": 231,
     "metadata": {},
     "output_type": "execute_result"
    }
   ],
   "source": [
    "# Encode the target column with 1s and 0s (both train and test). we are not going to split the data into test and train since it was already performed.\n",
    "X_test = X_test[X_train.columns]\n",
    "target_encoder = LabelEncoder().fit(y_train)\n",
    "y_train = target_encoder.transform(y_train)\n",
    "y_test=target_encoder.transform(y_test)\n",
    "y_test"
   ]
  },
  {
   "cell_type": "code",
   "execution_count": 232,
   "id": "07538ffa-2281-47a7-96de-93e8e77dd871",
   "metadata": {},
   "outputs": [
    {
     "name": "stdout",
     "output_type": "stream",
     "text": [
      "(559, 1)\n",
      "(187, 1)\n",
      "(559,)\n",
      "(187,)\n"
     ]
    }
   ],
   "source": [
    "# Check the shapes to make sure X_train and X_test have the same number of columns (same with y_train/y_test)\n",
    "print(X_train.shape)\n",
    "print(X_test.shape)\n",
    "print(y_train.shape)\n",
    "print(y_test.shape)"
   ]
  },
  {
   "cell_type": "code",
   "execution_count": 264,
   "id": "2d9d277f-c135-4008-8d06-cbb23ba6d13e",
   "metadata": {},
   "outputs": [
    {
     "name": "stdout",
     "output_type": "stream",
     "text": [
      "0.5828877005347594\n",
      "0.5509838998211091\n"
     ]
    }
   ],
   "source": [
    "#this is fot the projected 6 columns from sklearn.linear_model import LogisticRegression\n",
    "lr = LogisticRegression(solver='lbfgs', random_state=10)\n",
    "lr.fit(X_train, y_train)\n",
    "print(lr.score(X_test, y_test))\n",
    "print(lr.score(X_train, y_train))\n",
    "#59% in test and 53% in train data, it is not a good predictor of the heart failure. Sex alone cannnot determine heart failure."
   ]
  },
  {
   "cell_type": "markdown",
   "id": "2e5aef2a-a6c7-4fae-9aab-e4c986e87b2e",
   "metadata": {},
   "source": [
    "### Run LR on Age"
   ]
  },
  {
   "cell_type": "code",
   "execution_count": 265,
   "id": "cdb0924b-5ca6-4abd-8659-9b6216317af1",
   "metadata": {},
   "outputs": [
    {
     "data": {
      "text/html": [
       "<div>\n",
       "<style scoped>\n",
       "    .dataframe tbody tr th:only-of-type {\n",
       "        vertical-align: middle;\n",
       "    }\n",
       "\n",
       "    .dataframe tbody tr th {\n",
       "        vertical-align: top;\n",
       "    }\n",
       "\n",
       "    .dataframe thead th {\n",
       "        text-align: right;\n",
       "    }\n",
       "</style>\n",
       "<table border=\"1\" class=\"dataframe\">\n",
       "  <thead>\n",
       "    <tr style=\"text-align: right;\">\n",
       "      <th></th>\n",
       "      <th>Age</th>\n",
       "      <th>HeartDisease</th>\n",
       "    </tr>\n",
       "  </thead>\n",
       "  <tbody>\n",
       "    <tr>\n",
       "      <th>0</th>\n",
       "      <td>40</td>\n",
       "      <td>0</td>\n",
       "    </tr>\n",
       "    <tr>\n",
       "      <th>1</th>\n",
       "      <td>49</td>\n",
       "      <td>1</td>\n",
       "    </tr>\n",
       "    <tr>\n",
       "      <th>2</th>\n",
       "      <td>37</td>\n",
       "      <td>0</td>\n",
       "    </tr>\n",
       "    <tr>\n",
       "      <th>3</th>\n",
       "      <td>48</td>\n",
       "      <td>1</td>\n",
       "    </tr>\n",
       "  </tbody>\n",
       "</table>\n",
       "</div>"
      ],
      "text/plain": [
       "   Age  HeartDisease\n",
       "0   40             0\n",
       "1   49             1\n",
       "2   37             0\n",
       "3   48             1"
      ]
     },
     "execution_count": 265,
     "metadata": {},
     "output_type": "execute_result"
    }
   ],
   "source": [
    "# Project only necessary Sex and separate target feature for training data\n",
    "age_df = clean_df[['Age', 'HeartDisease']]\n",
    "age_df.head(4)"
   ]
  },
  {
   "cell_type": "code",
   "execution_count": 266,
   "id": "70674458-e844-429c-b434-5f19484bfedb",
   "metadata": {},
   "outputs": [],
   "source": [
    "#Load dataset and slit the dataframe into data and target[\"HeartDisease\"]\n",
    "y = age_df['HeartDisease'].values\n",
    "X = age_df.drop('HeartDisease', axis=1)"
   ]
  },
  {
   "cell_type": "code",
   "execution_count": 267,
   "id": "c5a831fd-4d07-479e-ae62-a1c1d2f55edc",
   "metadata": {},
   "outputs": [
    {
     "data": {
      "text/plain": [
       "array([0, 0, 1, 1, 1, 1, 0, 0, 0, 1, 1, 1, 0, 1, 0, 0, 1, 1, 1, 1, 1, 1,\n",
       "       0, 0, 0, 0, 1, 0, 1, 0, 1, 0, 0, 1, 0, 1, 0, 1, 0, 0, 0, 1, 1, 1,\n",
       "       0, 0, 0, 0, 1, 0, 0, 1, 0, 0, 1, 0, 1, 1, 0, 0, 0, 0, 0, 1, 1, 1,\n",
       "       0, 1, 0, 1, 1, 1, 0, 1, 0, 1, 1, 0, 0, 0, 0, 1, 0, 0, 1, 0, 0, 0,\n",
       "       0, 0, 0, 0, 0, 0, 0, 1, 0, 1, 0, 0, 0, 0, 1, 0, 1, 0, 0, 1, 0, 0,\n",
       "       1, 1, 0, 0, 1, 0, 1, 0, 0, 0, 0, 0, 0, 0, 0, 0, 0, 0, 1, 0, 1, 1,\n",
       "       0, 1, 0, 0, 1, 1, 0, 0, 1, 0, 1, 1, 0, 0, 1, 1, 0, 0, 0, 1, 1, 0,\n",
       "       1, 0, 0, 0, 0, 1, 0, 0, 0, 1, 0, 1, 0, 0, 1, 0, 0, 0, 1, 1, 0, 1,\n",
       "       0, 1, 0, 0, 0, 1, 0, 1, 0, 1, 0], dtype=int64)"
      ]
     },
     "execution_count": 267,
     "metadata": {},
     "output_type": "execute_result"
    }
   ],
   "source": [
    "# Encode the target column with 1s and 0s (both train and test). we are not going to split the data into test and train since it was already performed.\n",
    "X_test = X_test[X_train.columns]\n",
    "target_encoder = LabelEncoder().fit(y_train)\n",
    "y_train = target_encoder.transform(y_train)\n",
    "y_test=target_encoder.transform(y_test)\n",
    "y_test"
   ]
  },
  {
   "cell_type": "code",
   "execution_count": 268,
   "id": "97b28872-c9fb-46d0-ba9d-b3c0e111d731",
   "metadata": {},
   "outputs": [
    {
     "name": "stdout",
     "output_type": "stream",
     "text": [
      "(559, 1)\n",
      "(187, 1)\n",
      "(559,)\n",
      "(187,)\n"
     ]
    }
   ],
   "source": [
    "# Check the shapes to make sure X_train and X_test have the same number of columns (same with y_train/y_test)\n",
    "print(X_train.shape)\n",
    "print(X_test.shape)\n",
    "print(y_train.shape)\n",
    "print(y_test.shape)"
   ]
  },
  {
   "cell_type": "code",
   "execution_count": 269,
   "id": "9e9536f3-cb3f-4c25-9b32-409613057137",
   "metadata": {},
   "outputs": [
    {
     "name": "stdout",
     "output_type": "stream",
     "text": [
      "0.5828877005347594\n",
      "0.5509838998211091\n"
     ]
    }
   ],
   "source": [
    "#this is fot the projected 6 columns from sklearn.linear_model import LogisticRegression\n",
    "lr = LogisticRegression(solver='lbfgs', random_state=10)\n",
    "lr.fit(X_train, y_train)\n",
    "print(lr.score(X_test, y_test))\n",
    "print(lr.score(X_train, y_train))\n",
    "#58% in test and 55% in train data, it is not a good predictor of the heart failure. AGE alone cannnot determine heart failure."
   ]
  },
  {
   "cell_type": "markdown",
   "id": "2dd6071c-cf30-4300-ba3a-33a0a34bf7c9",
   "metadata": {},
   "source": [
    "### Run LR on Exercise Angina"
   ]
  },
  {
   "cell_type": "code",
   "execution_count": 246,
   "id": "d00cc623-aaaa-4dce-bd46-030c4f892512",
   "metadata": {},
   "outputs": [
    {
     "data": {
      "text/html": [
       "<div>\n",
       "<style scoped>\n",
       "    .dataframe tbody tr th:only-of-type {\n",
       "        vertical-align: middle;\n",
       "    }\n",
       "\n",
       "    .dataframe tbody tr th {\n",
       "        vertical-align: top;\n",
       "    }\n",
       "\n",
       "    .dataframe thead th {\n",
       "        text-align: right;\n",
       "    }\n",
       "</style>\n",
       "<table border=\"1\" class=\"dataframe\">\n",
       "  <thead>\n",
       "    <tr style=\"text-align: right;\">\n",
       "      <th></th>\n",
       "      <th>ExerciseAngina</th>\n",
       "      <th>HeartDisease</th>\n",
       "    </tr>\n",
       "  </thead>\n",
       "  <tbody>\n",
       "    <tr>\n",
       "      <th>0</th>\n",
       "      <td>0</td>\n",
       "      <td>0</td>\n",
       "    </tr>\n",
       "    <tr>\n",
       "      <th>1</th>\n",
       "      <td>0</td>\n",
       "      <td>1</td>\n",
       "    </tr>\n",
       "    <tr>\n",
       "      <th>2</th>\n",
       "      <td>0</td>\n",
       "      <td>0</td>\n",
       "    </tr>\n",
       "    <tr>\n",
       "      <th>3</th>\n",
       "      <td>1</td>\n",
       "      <td>1</td>\n",
       "    </tr>\n",
       "  </tbody>\n",
       "</table>\n",
       "</div>"
      ],
      "text/plain": [
       "   ExerciseAngina  HeartDisease\n",
       "0               0             0\n",
       "1               0             1\n",
       "2               0             0\n",
       "3               1             1"
      ]
     },
     "execution_count": 246,
     "metadata": {},
     "output_type": "execute_result"
    }
   ],
   "source": [
    "# Project only necessary Sex and separate target feature for training data\n",
    "exangina_df = clean_df[['ExerciseAngina', 'HeartDisease']]\n",
    "exangina_df.head(4)"
   ]
  },
  {
   "cell_type": "code",
   "execution_count": 252,
   "id": "59dd6ae2-2c9d-473a-870c-f4982ab3e25f",
   "metadata": {},
   "outputs": [],
   "source": [
    "#Load dataset and slit the dataframe into data and target[\"HeartDisease\"]\n",
    "y = exangina_df['HeartDisease'].values\n",
    "X = exangina_df.drop('HeartDisease', axis=1)"
   ]
  },
  {
   "cell_type": "code",
   "execution_count": 249,
   "id": "ddeaadac-0333-42cd-ac5a-4339f6a6c5cd",
   "metadata": {},
   "outputs": [
    {
     "data": {
      "text/plain": [
       "array([0, 0, 1, 1, 1, 1, 0, 0, 0, 1, 1, 1, 0, 1, 0, 0, 1, 1, 1, 1, 1, 1,\n",
       "       0, 0, 0, 0, 1, 0, 1, 0, 1, 0, 0, 1, 0, 1, 0, 1, 0, 0, 0, 1, 1, 1,\n",
       "       0, 0, 0, 0, 1, 0, 0, 1, 0, 0, 1, 0, 1, 1, 0, 0, 0, 0, 0, 1, 1, 1,\n",
       "       0, 1, 0, 1, 1, 1, 0, 1, 0, 1, 1, 0, 0, 0, 0, 1, 0, 0, 1, 0, 0, 0,\n",
       "       0, 0, 0, 0, 0, 0, 0, 1, 0, 1, 0, 0, 0, 0, 1, 0, 1, 0, 0, 1, 0, 0,\n",
       "       1, 1, 0, 0, 1, 0, 1, 0, 0, 0, 0, 0, 0, 0, 0, 0, 0, 0, 1, 0, 1, 1,\n",
       "       0, 1, 0, 0, 1, 1, 0, 0, 1, 0, 1, 1, 0, 0, 1, 1, 0, 0, 0, 1, 1, 0,\n",
       "       1, 0, 0, 0, 0, 1, 0, 0, 0, 1, 0, 1, 0, 0, 1, 0, 0, 0, 1, 1, 0, 1,\n",
       "       0, 1, 0, 0, 0, 1, 0, 1, 0, 1, 0], dtype=int64)"
      ]
     },
     "execution_count": 249,
     "metadata": {},
     "output_type": "execute_result"
    }
   ],
   "source": [
    "# Encode the target column with 1s and 0s (both train and test). we are not going to split the data into test and train since it was already performed.\n",
    "X_test = X_test[X_train.columns]\n",
    "target_encoder = LabelEncoder().fit(y_train)\n",
    "y_train = target_encoder.transform(y_train)\n",
    "y_test=target_encoder.transform(y_test)\n",
    "y_test"
   ]
  },
  {
   "cell_type": "code",
   "execution_count": 250,
   "id": "d99c2780-f991-4195-b809-76df53d352c7",
   "metadata": {},
   "outputs": [
    {
     "name": "stdout",
     "output_type": "stream",
     "text": [
      "(559, 1)\n",
      "(187, 1)\n",
      "(559,)\n",
      "(187,)\n"
     ]
    }
   ],
   "source": [
    "# Check the shapes to make sure X_train and X_test have the same number of columns (same with y_train/y_test)\n",
    "print(X_train.shape)\n",
    "print(X_test.shape)\n",
    "print(y_train.shape)\n",
    "print(y_test.shape)"
   ]
  },
  {
   "cell_type": "code",
   "execution_count": 270,
   "id": "bdfb3504-0c5d-441a-81ec-fbf81f12efa4",
   "metadata": {},
   "outputs": [
    {
     "name": "stdout",
     "output_type": "stream",
     "text": [
      "0.5828877005347594\n",
      "0.5509838998211091\n"
     ]
    }
   ],
   "source": [
    "#this is fot the projected 6 columns from sklearn.linear_model import LogisticRegression\n",
    "lr = LogisticRegression(solver='lbfgs', random_state=10)\n",
    "lr.fit(X_train, y_train)\n",
    "print(lr.score(X_test, y_test))\n",
    "print(lr.score(X_train, y_train))\n",
    "#58% in test and 55% in train data, it is not a good predictor of the heart failure. AGE alone cannnot determine heart failure."
   ]
  },
  {
   "cell_type": "code",
   "execution_count": null,
   "id": "57dcbdf0-3767-4c06-bff3-126e84768f11",
   "metadata": {},
   "outputs": [],
   "source": []
  },
  {
   "cell_type": "code",
   "execution_count": null,
   "id": "1436a08b-157e-4be7-b953-018784bcce06",
   "metadata": {},
   "outputs": [],
   "source": []
  },
  {
   "cell_type": "code",
   "execution_count": null,
   "id": "6d97419c-645e-4f95-b97e-d1e69cab2182",
   "metadata": {},
   "outputs": [],
   "source": []
  },
  {
   "cell_type": "markdown",
   "id": "4363270e-6092-4b2b-8bcb-627c6441ad17",
   "metadata": {},
   "source": [
    "## Step II: Machine Learning model\n"
   ]
  },
  {
   "cell_type": "code",
   "execution_count": null,
   "id": "d39199d0-1139-4886-9339-265873a1924d",
   "metadata": {},
   "outputs": [],
   "source": [
    "# Dimensionality Reduction"
   ]
  },
  {
   "cell_type": "code",
   "execution_count": 255,
   "id": "4794ae9f-b21b-49b9-8eef-32eda91bd5f5",
   "metadata": {},
   "outputs": [],
   "source": [
    "from sklearn.model_selection import train_test_split\n",
    "X_train, X_test, y_train, y_test = train_test_split(X, y, random_state=1)"
   ]
  },
  {
   "cell_type": "code",
   "execution_count": 65,
   "id": "94284579-1c80-4b1b-a868-9a5a5b5b227c",
   "metadata": {},
   "outputs": [
    {
     "data": {
      "text/plain": [
       "StandardScaler()"
      ]
     },
     "execution_count": 65,
     "metadata": {},
     "output_type": "execute_result"
    }
   ],
   "source": [
    "# Train the scaler with the X_train data.\n",
    "scaler.fit(X_train)"
   ]
  },
  {
   "cell_type": "code",
   "execution_count": 66,
   "id": "76b3ecaa-d02f-4a67-96bf-9d18fe659193",
   "metadata": {},
   "outputs": [],
   "source": [
    "# Split the dataframe into data and target[\"HeartDisease\"]\n",
    "y = projected_df['HeartDisease'].values\n",
    "X = projected_df.drop('HeartDisease', axis=1)"
   ]
  },
  {
   "cell_type": "code",
   "execution_count": 256,
   "id": "35ae907e-56a2-481a-8e19-a7cbb051c3bf",
   "metadata": {},
   "outputs": [],
   "source": [
    "# Transform X_train and X_test.\n",
    "# Note that the scaler used to transform X_train and X_test was trained on X_train.\n",
    "X_train_scaled = scaler.transform(X_train)\n",
    "X_test_scaled = scaler.transform(X_test)"
   ]
  },
  {
   "cell_type": "code",
   "execution_count": 72,
   "id": "3509a882-8b8d-4394-aff9-11dddee152e9",
   "metadata": {},
   "outputs": [
    {
     "name": "stdout",
     "output_type": "stream",
     "text": [
      "[[-1.35607325  0.56806253  0.7504942  -0.84094155  1.29647027 -0.79074163\n",
      "  -0.95541641]\n",
      " [-0.40865641 -1.76036959 -1.09340492  0.0917709   0.64361328 -0.79074163\n",
      "   1.04666404]\n",
      " [-1.67187886  0.56806253  0.64899516 -0.84094155 -1.72299329 -0.79074163\n",
      "  -0.95541641]\n",
      " [-0.51392495 -1.76036959 -0.51824373  0.55812713 -1.31495767  1.26463557\n",
      "   1.04666404]\n",
      " [ 0.11768627  0.56806253 -0.83965733 -0.84094155 -0.74370781 -0.79074163\n",
      "  -0.95541641]\n",
      " [-1.46134178  0.56806253  1.59631948 -0.84094155  1.21486314 -0.79074163\n",
      "  -0.95541641]]\n"
     ]
    }
   ],
   "source": [
    "# Scale the data\n",
    "scaler = StandardScaler()\n",
    "scaled_heart= scaler.fit_transform(projected_df)\n",
    "print(scaled_heart[0:6])"
   ]
  },
  {
   "cell_type": "markdown",
   "id": "0da363d3-67e6-4396-a53f-0ebfa50cf28c",
   "metadata": {},
   "source": [
    "## Data Visualization"
   ]
  },
  {
   "cell_type": "code",
   "execution_count": 56,
   "id": "a2adf1f1-5e69-46d5-88a0-5150d07440eb",
   "metadata": {},
   "outputs": [
    {
     "data": {
      "text/html": [
       "<div>\n",
       "<style scoped>\n",
       "    .dataframe tbody tr th:only-of-type {\n",
       "        vertical-align: middle;\n",
       "    }\n",
       "\n",
       "    .dataframe tbody tr th {\n",
       "        vertical-align: top;\n",
       "    }\n",
       "\n",
       "    .dataframe thead th {\n",
       "        text-align: right;\n",
       "    }\n",
       "</style>\n",
       "<table border=\"1\" class=\"dataframe\">\n",
       "  <thead>\n",
       "    <tr style=\"text-align: right;\">\n",
       "      <th></th>\n",
       "      <th>Total Count</th>\n",
       "    </tr>\n",
       "    <tr>\n",
       "      <th>Sex</th>\n",
       "      <th></th>\n",
       "    </tr>\n",
       "  </thead>\n",
       "  <tbody>\n",
       "    <tr>\n",
       "      <th>0</th>\n",
       "      <td>182</td>\n",
       "    </tr>\n",
       "    <tr>\n",
       "      <th>1</th>\n",
       "      <td>564</td>\n",
       "    </tr>\n",
       "  </tbody>\n",
       "</table>\n",
       "</div>"
      ],
      "text/plain": [
       "     Total Count\n",
       "Sex             \n",
       "0            182\n",
       "1            564"
      ]
     },
     "execution_count": 56,
     "metadata": {},
     "output_type": "execute_result"
    }
   ],
   "source": [
    "#  Group by gender and get the number to plot\n",
    "distr_gender = clean_df.groupby([\"Sex\"])\n",
    "gender_df= pd.DataFrame(distr_gender.size())\n",
    "gender_df\n",
    "\n",
    "# Create the dataframe with total count of Female and Male\n",
    "gender_df.columns = [\"Total Count\"]\n",
    "gender_df"
   ]
  },
  {
   "cell_type": "code",
   "execution_count": 55,
   "id": "3bd97330-d271-42c7-8c1d-a645ee0f1497",
   "metadata": {},
   "outputs": [
    {
     "data": {
      "image/png": "[encoded data removed]",
      "text/plain": [
       "<Figure size 1080x432 with 1 Axes>"
      ]
     },
     "metadata": {},
     "output_type": "display_data"
    }
   ],
   "source": [
    "# # Gender Breakdown\n",
    "colors = [\"yellowgreen\", \"lightcoral\"]\n",
    "#define how the pie will devide/explode\n",
    "explode = (0.1, 0)\n",
    "gender_df.plot.pie(y='Total Count', colors = colors, startangle=120, explode = explode, shadow = True, autopct=\"%1.1f%%\")\n",
    "plt.title(\"Distribution of Female vs. Male\")\n",
    "plt.axis(\"equal\")\n",
    "plt.show()"
   ]
  },
  {
   "cell_type": "code",
   "execution_count": null,
   "id": "2844ac1d-d525-4f43-912b-3b9b0cf07abf",
   "metadata": {},
   "outputs": [],
   "source": []
  },
  {
   "cell_type": "code",
   "execution_count": null,
   "id": "fc481c7e-c960-4d44-87ed-4b263506e8eb",
   "metadata": {},
   "outputs": [],
   "source": []
  }
 ],
 "metadata": {
  "kernelspec": {
   "display_name": "Python 3",
   "language": "python",
   "name": "python3"
  },
  "language_info": {
   "codemirror_mode": {
    "name": "ipython",
    "version": 3
   },
   "file_extension": ".py",
   "mimetype": "text/x-python",
   "name": "python",
   "nbconvert_exporter": "python",
   "pygments_lexer": "ipython3",
   "version": "3.9.5"
  }
 },
 "nbformat": 4,
 "nbformat_minor": 5
}
