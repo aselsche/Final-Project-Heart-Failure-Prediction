{
 "cells": [
  {
   "cell_type": "markdown",
   "id": "04edf274-d656-493e-bd5e-b8b0c1cb13ca",
   "metadata": {},
   "source": [
    "## Clustering: Clustering is the process of dividing the entire data into groups (also known as clusters) based on the patterns in the data."
   ]
  },
  {
   "cell_type": "markdown",
   "id": "50700aa4-4337-4216-a91e-9c82c1a1b394",
   "metadata": {},
   "source": [
    "In this document, we discussed one of the most famous clustering algorithms – K-Means. We implemented it from scratch and looked at its step-by-step implementation. We also looked at the elbow curve which helps to find the optimum number of clusters in the K-Means algorithm.\n",
    "\n",
    "In clustering, we do not have a target to predict. We look at the data and then try to club similar observations and form different groups. Hence it is an unsupervised learning problem. "
   ]
  },
  {
   "cell_type": "code",
   "execution_count": 2,
   "id": "3bbd24bb-3467-40a2-8e67-2a46750206a4",
   "metadata": {},
   "outputs": [],
   "source": [
    "# Import our dependencies\n",
    "import pandas as pd\n",
    "import matplotlib as plt\n",
    "import matplotlib.pyplot as plt\n",
    "import numpy as np\n",
    "from pathlib import Path\n",
    "import seaborn as sns\n",
    "from sklearn.datasets import make_blobs\n",
    "from sklearn.model_selection import train_test_split\n",
    "from sklearn.metrics import mean_squared_error, r2_score\n",
    "from sklearn.preprocessing import StandardScaler, LabelEncoder\n",
    "from sklearn.model_selection import train_test_split\n",
    "import pandas as pd\n",
    "from pathlib import Path\n",
    "from sklearn.preprocessing import StandardScaler\n",
    "from sklearn.decomposition import PCA\n",
    "from sklearn.cluster import KMeans\n",
    "import matplotlib.pyplot as plt"
   ]
  },
  {
   "cell_type": "code",
   "execution_count": 3,
   "id": "a0e2a477-c0ce-447a-927f-a358c27e2eba",
   "metadata": {},
   "outputs": [
    {
     "data": {
      "text/html": [
       "<div>\n",
       "<style scoped>\n",
       "    .dataframe tbody tr th:only-of-type {\n",
       "        vertical-align: middle;\n",
       "    }\n",
       "\n",
       "    .dataframe tbody tr th {\n",
       "        vertical-align: top;\n",
       "    }\n",
       "\n",
       "    .dataframe thead th {\n",
       "        text-align: right;\n",
       "    }\n",
       "</style>\n",
       "<table border=\"1\" class=\"dataframe\">\n",
       "  <thead>\n",
       "    <tr style=\"text-align: right;\">\n",
       "      <th></th>\n",
       "      <th>Age</th>\n",
       "      <th>Sex</th>\n",
       "      <th>ChestPainType</th>\n",
       "      <th>RestingBP</th>\n",
       "      <th>Cholesterol</th>\n",
       "      <th>FastingBS</th>\n",
       "      <th>RestingECG</th>\n",
       "      <th>MaxHR</th>\n",
       "      <th>ExerciseAngina</th>\n",
       "      <th>Oldpeak</th>\n",
       "      <th>ST_Slope</th>\n",
       "      <th>HeartDisease</th>\n",
       "    </tr>\n",
       "  </thead>\n",
       "  <tbody>\n",
       "    <tr>\n",
       "      <th>0</th>\n",
       "      <td>40</td>\n",
       "      <td>1</td>\n",
       "      <td>ATA</td>\n",
       "      <td>140</td>\n",
       "      <td>289</td>\n",
       "      <td>0</td>\n",
       "      <td>Normal</td>\n",
       "      <td>172</td>\n",
       "      <td>0</td>\n",
       "      <td>0.0</td>\n",
       "      <td>Up</td>\n",
       "      <td>0</td>\n",
       "    </tr>\n",
       "    <tr>\n",
       "      <th>1</th>\n",
       "      <td>49</td>\n",
       "      <td>0</td>\n",
       "      <td>NAP</td>\n",
       "      <td>160</td>\n",
       "      <td>180</td>\n",
       "      <td>0</td>\n",
       "      <td>Normal</td>\n",
       "      <td>156</td>\n",
       "      <td>0</td>\n",
       "      <td>1.0</td>\n",
       "      <td>Flat</td>\n",
       "      <td>1</td>\n",
       "    </tr>\n",
       "    <tr>\n",
       "      <th>2</th>\n",
       "      <td>37</td>\n",
       "      <td>1</td>\n",
       "      <td>ATA</td>\n",
       "      <td>130</td>\n",
       "      <td>283</td>\n",
       "      <td>0</td>\n",
       "      <td>ST</td>\n",
       "      <td>98</td>\n",
       "      <td>0</td>\n",
       "      <td>0.0</td>\n",
       "      <td>Up</td>\n",
       "      <td>0</td>\n",
       "    </tr>\n",
       "    <tr>\n",
       "      <th>3</th>\n",
       "      <td>48</td>\n",
       "      <td>0</td>\n",
       "      <td>ASY</td>\n",
       "      <td>138</td>\n",
       "      <td>214</td>\n",
       "      <td>0</td>\n",
       "      <td>Normal</td>\n",
       "      <td>108</td>\n",
       "      <td>1</td>\n",
       "      <td>1.5</td>\n",
       "      <td>Flat</td>\n",
       "      <td>1</td>\n",
       "    </tr>\n",
       "    <tr>\n",
       "      <th>4</th>\n",
       "      <td>54</td>\n",
       "      <td>1</td>\n",
       "      <td>NAP</td>\n",
       "      <td>150</td>\n",
       "      <td>195</td>\n",
       "      <td>0</td>\n",
       "      <td>Normal</td>\n",
       "      <td>122</td>\n",
       "      <td>0</td>\n",
       "      <td>0.0</td>\n",
       "      <td>Up</td>\n",
       "      <td>0</td>\n",
       "    </tr>\n",
       "  </tbody>\n",
       "</table>\n",
       "</div>"
      ],
      "text/plain": [
       "   Age  Sex ChestPainType  RestingBP  Cholesterol  FastingBS RestingECG  \\\n",
       "0   40    1           ATA        140          289          0     Normal   \n",
       "1   49    0           NAP        160          180          0     Normal   \n",
       "2   37    1           ATA        130          283          0         ST   \n",
       "3   48    0           ASY        138          214          0     Normal   \n",
       "4   54    1           NAP        150          195          0     Normal   \n",
       "\n",
       "   MaxHR  ExerciseAngina  Oldpeak ST_Slope  HeartDisease  \n",
       "0    172               0      0.0       Up             0  \n",
       "1    156               0      1.0     Flat             1  \n",
       "2     98               0      0.0       Up             0  \n",
       "3    108               1      1.5     Flat             1  \n",
       "4    122               0      0.0       Up             0  "
      ]
     },
     "execution_count": 3,
     "metadata": {},
     "output_type": "execute_result"
    }
   ],
   "source": [
    "#  Import and read the heart.csv.\n",
    "heart = pd.read_csv(\"data.csv\")\n",
    "#Replacing strings with numbers for Gender and Exercise Angina\n",
    "gender = {'M': 1,'F': 0}\n",
    "heart.Sex = [gender[item] for item in heart.Sex]\n",
    "ex_angina={'N': 0,'Y': 1}\n",
    "heart.ExerciseAngina = [ex_angina[item] for item in heart.ExerciseAngina]\n",
    "heart.head()"
   ]
  },
  {
   "cell_type": "code",
   "execution_count": 4,
   "id": "0bbc5a0a-20cd-4c4c-9c58-12fea4268c78",
   "metadata": {},
   "outputs": [
    {
     "data": {
      "text/html": [
       "<div>\n",
       "<style scoped>\n",
       "    .dataframe tbody tr th:only-of-type {\n",
       "        vertical-align: middle;\n",
       "    }\n",
       "\n",
       "    .dataframe tbody tr th {\n",
       "        vertical-align: top;\n",
       "    }\n",
       "\n",
       "    .dataframe thead th {\n",
       "        text-align: right;\n",
       "    }\n",
       "</style>\n",
       "<table border=\"1\" class=\"dataframe\">\n",
       "  <thead>\n",
       "    <tr style=\"text-align: right;\">\n",
       "      <th></th>\n",
       "      <th>Age</th>\n",
       "      <th>Sex</th>\n",
       "      <th>RestingBP</th>\n",
       "      <th>FastingBS</th>\n",
       "      <th>MaxHR</th>\n",
       "      <th>Oldpeak</th>\n",
       "      <th>ExerciseAngina</th>\n",
       "      <th>Cholesterol</th>\n",
       "    </tr>\n",
       "  </thead>\n",
       "  <tbody>\n",
       "    <tr>\n",
       "      <th>0</th>\n",
       "      <td>40</td>\n",
       "      <td>1</td>\n",
       "      <td>140</td>\n",
       "      <td>0</td>\n",
       "      <td>172</td>\n",
       "      <td>0.0</td>\n",
       "      <td>0</td>\n",
       "      <td>289</td>\n",
       "    </tr>\n",
       "    <tr>\n",
       "      <th>1</th>\n",
       "      <td>49</td>\n",
       "      <td>0</td>\n",
       "      <td>160</td>\n",
       "      <td>0</td>\n",
       "      <td>156</td>\n",
       "      <td>1.0</td>\n",
       "      <td>0</td>\n",
       "      <td>180</td>\n",
       "    </tr>\n",
       "    <tr>\n",
       "      <th>2</th>\n",
       "      <td>37</td>\n",
       "      <td>1</td>\n",
       "      <td>130</td>\n",
       "      <td>0</td>\n",
       "      <td>98</td>\n",
       "      <td>0.0</td>\n",
       "      <td>0</td>\n",
       "      <td>283</td>\n",
       "    </tr>\n",
       "    <tr>\n",
       "      <th>3</th>\n",
       "      <td>48</td>\n",
       "      <td>0</td>\n",
       "      <td>138</td>\n",
       "      <td>0</td>\n",
       "      <td>108</td>\n",
       "      <td>1.5</td>\n",
       "      <td>1</td>\n",
       "      <td>214</td>\n",
       "    </tr>\n",
       "  </tbody>\n",
       "</table>\n",
       "</div>"
      ],
      "text/plain": [
       "   Age  Sex  RestingBP  FastingBS  MaxHR  Oldpeak  ExerciseAngina  Cholesterol\n",
       "0   40    1        140          0    172      0.0               0          289\n",
       "1   49    0        160          0    156      1.0               0          180\n",
       "2   37    1        130          0     98      0.0               0          283\n",
       "3   48    0        138          0    108      1.5               1          214"
      ]
     },
     "execution_count": 4,
     "metadata": {},
     "output_type": "execute_result"
    }
   ],
   "source": [
    "# Project only necessary Sex and separate target feature for training data\n",
    "cluster_df = heart[['Age', 'Sex', 'RestingBP', 'FastingBS', 'MaxHR', 'Oldpeak', 'ExerciseAngina', 'Cholesterol']] # THIS IS X\n",
    "label_df = heart['HeartDisease'] # THIS IS Y\n",
    "cluster_df.head(4)"
   ]
  },
  {
   "cell_type": "code",
   "execution_count": 5,
   "id": "846d6a4d-0c5b-4ca6-812e-70711e163b80",
   "metadata": {},
   "outputs": [
    {
     "data": {
      "text/plain": [
       "array([[-1.4331398 ,  0.51595242,  0.41090889, ..., -0.83243239,\n",
       "        -0.8235563 ,  0.82507026],\n",
       "       [-0.47848359, -1.93816322,  1.49175234, ...,  0.10566353,\n",
       "        -0.8235563 , -0.17196105],\n",
       "       [-1.75135854,  0.51595242, -0.12951283, ..., -0.83243239,\n",
       "        -0.8235563 ,  0.7701878 ],\n",
       "       ...,\n",
       "       [ 0.37009972,  0.51595242, -0.12951283, ...,  0.29328271,\n",
       "         1.21424608, -0.62016778],\n",
       "       [ 0.37009972, -1.93816322, -0.12951283, ..., -0.83243239,\n",
       "        -0.8235563 ,  0.34027522],\n",
       "       [-1.64528563,  0.51595242,  0.30282455, ..., -0.83243239,\n",
       "        -0.8235563 , -0.21769643]])"
      ]
     },
     "execution_count": 5,
     "metadata": {},
     "output_type": "execute_result"
    }
   ],
   "source": [
    "# Scale the data\n",
    "scaler = StandardScaler()\n",
    "scaled_data= scaler.fit_transform(cluster_df)\n",
    "scaled_data"
   ]
  },
  {
   "cell_type": "code",
   "execution_count": 6,
   "id": "32696a42-2f8a-4d4e-b1b8-978e9aa2ec88",
   "metadata": {},
   "outputs": [
    {
     "data": {
      "text/html": [
       "<div>\n",
       "<style scoped>\n",
       "    .dataframe tbody tr th:only-of-type {\n",
       "        vertical-align: middle;\n",
       "    }\n",
       "\n",
       "    .dataframe tbody tr th {\n",
       "        vertical-align: top;\n",
       "    }\n",
       "\n",
       "    .dataframe thead th {\n",
       "        text-align: right;\n",
       "    }\n",
       "</style>\n",
       "<table border=\"1\" class=\"dataframe\">\n",
       "  <thead>\n",
       "    <tr style=\"text-align: right;\">\n",
       "      <th></th>\n",
       "      <th>Age</th>\n",
       "      <th>Sex</th>\n",
       "      <th>RestingBP</th>\n",
       "      <th>FastingBS</th>\n",
       "      <th>MaxHR</th>\n",
       "      <th>Oldpeak</th>\n",
       "      <th>ExerciseAngina</th>\n",
       "      <th>Cholesterol</th>\n",
       "    </tr>\n",
       "  </thead>\n",
       "  <tbody>\n",
       "    <tr>\n",
       "      <th>0</th>\n",
       "      <td>-1.433140</td>\n",
       "      <td>0.515952</td>\n",
       "      <td>0.410909</td>\n",
       "      <td>-0.551341</td>\n",
       "      <td>1.382928</td>\n",
       "      <td>-0.832432</td>\n",
       "      <td>-0.823556</td>\n",
       "      <td>0.825070</td>\n",
       "    </tr>\n",
       "    <tr>\n",
       "      <th>1</th>\n",
       "      <td>-0.478484</td>\n",
       "      <td>-1.938163</td>\n",
       "      <td>1.491752</td>\n",
       "      <td>-0.551341</td>\n",
       "      <td>0.754157</td>\n",
       "      <td>0.105664</td>\n",
       "      <td>-0.823556</td>\n",
       "      <td>-0.171961</td>\n",
       "    </tr>\n",
       "    <tr>\n",
       "      <th>2</th>\n",
       "      <td>-1.751359</td>\n",
       "      <td>0.515952</td>\n",
       "      <td>-0.129513</td>\n",
       "      <td>-0.551341</td>\n",
       "      <td>-1.525138</td>\n",
       "      <td>-0.832432</td>\n",
       "      <td>-0.823556</td>\n",
       "      <td>0.770188</td>\n",
       "    </tr>\n",
       "    <tr>\n",
       "      <th>3</th>\n",
       "      <td>-0.584556</td>\n",
       "      <td>-1.938163</td>\n",
       "      <td>0.302825</td>\n",
       "      <td>-0.551341</td>\n",
       "      <td>-1.132156</td>\n",
       "      <td>0.574711</td>\n",
       "      <td>1.214246</td>\n",
       "      <td>0.139040</td>\n",
       "    </tr>\n",
       "    <tr>\n",
       "      <th>4</th>\n",
       "      <td>0.051881</td>\n",
       "      <td>0.515952</td>\n",
       "      <td>0.951331</td>\n",
       "      <td>-0.551341</td>\n",
       "      <td>-0.581981</td>\n",
       "      <td>-0.832432</td>\n",
       "      <td>-0.823556</td>\n",
       "      <td>-0.034755</td>\n",
       "    </tr>\n",
       "    <tr>\n",
       "      <th>...</th>\n",
       "      <td>...</td>\n",
       "      <td>...</td>\n",
       "      <td>...</td>\n",
       "      <td>...</td>\n",
       "      <td>...</td>\n",
       "      <td>...</td>\n",
       "      <td>...</td>\n",
       "      <td>...</td>\n",
       "    </tr>\n",
       "    <tr>\n",
       "      <th>913</th>\n",
       "      <td>-0.902775</td>\n",
       "      <td>0.515952</td>\n",
       "      <td>-1.210356</td>\n",
       "      <td>-0.551341</td>\n",
       "      <td>-0.188999</td>\n",
       "      <td>0.293283</td>\n",
       "      <td>-0.823556</td>\n",
       "      <td>0.596393</td>\n",
       "    </tr>\n",
       "    <tr>\n",
       "      <th>914</th>\n",
       "      <td>1.536902</td>\n",
       "      <td>0.515952</td>\n",
       "      <td>0.627078</td>\n",
       "      <td>1.813758</td>\n",
       "      <td>0.164684</td>\n",
       "      <td>2.357094</td>\n",
       "      <td>-0.823556</td>\n",
       "      <td>-0.053049</td>\n",
       "    </tr>\n",
       "    <tr>\n",
       "      <th>915</th>\n",
       "      <td>0.370100</td>\n",
       "      <td>0.515952</td>\n",
       "      <td>-0.129513</td>\n",
       "      <td>-0.551341</td>\n",
       "      <td>-0.857069</td>\n",
       "      <td>0.293283</td>\n",
       "      <td>1.214246</td>\n",
       "      <td>-0.620168</td>\n",
       "    </tr>\n",
       "    <tr>\n",
       "      <th>916</th>\n",
       "      <td>0.370100</td>\n",
       "      <td>-1.938163</td>\n",
       "      <td>-0.129513</td>\n",
       "      <td>-0.551341</td>\n",
       "      <td>1.461525</td>\n",
       "      <td>-0.832432</td>\n",
       "      <td>-0.823556</td>\n",
       "      <td>0.340275</td>\n",
       "    </tr>\n",
       "    <tr>\n",
       "      <th>917</th>\n",
       "      <td>-1.645286</td>\n",
       "      <td>0.515952</td>\n",
       "      <td>0.302825</td>\n",
       "      <td>-0.551341</td>\n",
       "      <td>1.422226</td>\n",
       "      <td>-0.832432</td>\n",
       "      <td>-0.823556</td>\n",
       "      <td>-0.217696</td>\n",
       "    </tr>\n",
       "  </tbody>\n",
       "</table>\n",
       "<p>918 rows × 8 columns</p>\n",
       "</div>"
      ],
      "text/plain": [
       "          Age       Sex  RestingBP  FastingBS     MaxHR   Oldpeak  \\\n",
       "0   -1.433140  0.515952   0.410909  -0.551341  1.382928 -0.832432   \n",
       "1   -0.478484 -1.938163   1.491752  -0.551341  0.754157  0.105664   \n",
       "2   -1.751359  0.515952  -0.129513  -0.551341 -1.525138 -0.832432   \n",
       "3   -0.584556 -1.938163   0.302825  -0.551341 -1.132156  0.574711   \n",
       "4    0.051881  0.515952   0.951331  -0.551341 -0.581981 -0.832432   \n",
       "..        ...       ...        ...        ...       ...       ...   \n",
       "913 -0.902775  0.515952  -1.210356  -0.551341 -0.188999  0.293283   \n",
       "914  1.536902  0.515952   0.627078   1.813758  0.164684  2.357094   \n",
       "915  0.370100  0.515952  -0.129513  -0.551341 -0.857069  0.293283   \n",
       "916  0.370100 -1.938163  -0.129513  -0.551341  1.461525 -0.832432   \n",
       "917 -1.645286  0.515952   0.302825  -0.551341  1.422226 -0.832432   \n",
       "\n",
       "     ExerciseAngina  Cholesterol  \n",
       "0         -0.823556     0.825070  \n",
       "1         -0.823556    -0.171961  \n",
       "2         -0.823556     0.770188  \n",
       "3          1.214246     0.139040  \n",
       "4         -0.823556    -0.034755  \n",
       "..              ...          ...  \n",
       "913       -0.823556     0.596393  \n",
       "914       -0.823556    -0.053049  \n",
       "915        1.214246    -0.620168  \n",
       "916       -0.823556     0.340275  \n",
       "917       -0.823556    -0.217696  \n",
       "\n",
       "[918 rows x 8 columns]"
      ]
     },
     "execution_count": 6,
     "metadata": {},
     "output_type": "execute_result"
    }
   ],
   "source": [
    "# Create a new dataframe with the transormed data\n",
    "scaled_df=pd.DataFrame(scaled_data, columns=cluster_df.columns[0:])\n",
    "scaled_df"
   ]
  },
  {
   "cell_type": "code",
   "execution_count": 8,
   "id": "ffaf4585-0b82-4aae-9615-bc5849138e7a",
   "metadata": {},
   "outputs": [],
   "source": [
    "# Perform dimensionality reduction with PCA. Rather than specify the number of principal components when you instantiate the PCA\n",
    "# model, it is possible to state the desired explained variance.\n",
    "pca = PCA(n_components=0.85) # 0.9 = 7 features\n",
    "# get principal components for the data\n",
    "pca_cluster_data = pca.fit_transform(scaled_df)"
   ]
  },
  {
   "cell_type": "code",
   "execution_count": 9,
   "id": "cbef76de-5e8b-44ec-8c0c-95261d22d79d",
   "metadata": {},
   "outputs": [
    {
     "data": {
      "text/plain": [
       "(918, 6)"
      ]
     },
     "execution_count": 9,
     "metadata": {},
     "output_type": "execute_result"
    }
   ],
   "source": [
    "pca_cluster_data.shape"
   ]
  },
  {
   "cell_type": "code",
   "execution_count": 10,
   "id": "5d02e63c-abac-4c03-9ba3-3debc7c9c8d3",
   "metadata": {},
   "outputs": [],
   "source": [
    "#  run t-SNE on the principal components: the output of the PCA transformation\n",
    "from sklearn.manifold import TSNE\n",
    "tsne = TSNE(learning_rate=100)\n",
    "tsne_features = tsne.fit_transform(pca_cluster_data)"
   ]
  },
  {
   "cell_type": "code",
   "execution_count": 11,
   "id": "ad512744-daa3-4469-984d-61fe2688981c",
   "metadata": {},
   "outputs": [
    {
     "data": {
      "text/plain": [
       "(918, 2)"
      ]
     },
     "execution_count": 11,
     "metadata": {},
     "output_type": "execute_result"
    }
   ],
   "source": [
    "# The dataset has 2 columns -- got compressed\n",
    "tsne_features.shape"
   ]
  },
  {
   "cell_type": "code",
   "execution_count": 12,
   "id": "037c9e38-f3c5-4080-a3d7-8b9c7d64c37d",
   "metadata": {},
   "outputs": [
    {
     "data": {
      "image/png": "[encoded data removed]",
      "text/plain": [
       "<Figure size 432x288 with 1 Axes>"
      ]
     },
     "metadata": {
      "needs_background": "light"
     },
     "output_type": "display_data"
    }
   ],
   "source": [
    "# Visualize the clusters\n",
    "plt.scatter(tsne_features[:,0],tsne_features[:,1], c=label_df.values)\n",
    "plt.show()\n",
    "#multiples"
   ]
  },
  {
   "cell_type": "code",
   "execution_count": 31,
   "id": "bf9d0965-a972-48bd-9064-1da7760bb591",
   "metadata": {},
   "outputs": [],
   "source": [
    "# # Initializing model with K=5 (clearly we have 5 clusters above)\n",
    "# model = KMeans(n_clusters=5, random_state=10)"
   ]
  },
  {
   "cell_type": "code",
   "execution_count": 36,
   "id": "50c24302-662a-45b4-b825-502fdffd6ea2",
   "metadata": {},
   "outputs": [
    {
     "data": {
      "text/plain": [
       "[1, 3, 5, 7, 9]"
      ]
     },
     "execution_count": 36,
     "metadata": {},
     "output_type": "execute_result"
    }
   ],
   "source": [
    "list(range(1,10,2))"
   ]
  },
  {
   "cell_type": "code",
   "execution_count": 23,
   "id": "04495830-31bd-4ee0-8bef-e282f90dc3cd",
   "metadata": {},
   "outputs": [
    {
     "data": {
      "image/png": "[encoded data removed]",
      "text/plain": [
       "<Figure size 432x288 with 1 Axes>"
      ]
     },
     "metadata": {
      "needs_background": "light"
     },
     "output_type": "display_data"
    },
    {
     "data": {
      "text/plain": [
       "<Figure size 432x288 with 0 Axes>"
      ]
     },
     "metadata": {},
     "output_type": "display_data"
    }
   ],
   "source": [
    "inertia = []\n",
    "# Same as k = list(range(1, 11))\n",
    "k = list(range(1,10,2))\n",
    "\n",
    "# Looking for the best k\n",
    "for i in k:\n",
    "    km = KMeans(n_clusters=i, random_state=0)\n",
    "    km.fit(tsne_features)\n",
    "    inertia.append(km.inertia_)\n",
    "\n",
    "# Create the Elbow Curve using hvPlot\n",
    "# df_elbow.hvplot.line(x = 'k', y = 'inertia', titles = 'clusters')\n",
    "\n",
    "elbow_heart_df = pd.DataFrame({'k': k, 'inertia': inertia})\n",
    "elbow_heart_df.plot.line(x='k', y='inertia')\n",
    "plt.ylabel('Inertia')\n",
    "plt.title('Elbow Plot')\n",
    "plt.show()\n",
    "\n",
    "plt.savefig(\"elbow.jpg\", dpi = 100)"
   ]
  },
  {
   "cell_type": "code",
   "execution_count": null,
   "id": "1e76729c-9a80-4363-9d31-85dce410de3b",
   "metadata": {},
   "outputs": [],
   "source": [
    "#The variables that could predict heart failure could be clustered together into 3 clusters to create a classification system for\n",
    "#heart failure prediction purposes. My conclusion is based on the k-means algorithm which is an unsupervised clustering algorithm. \n",
    "#The data is grouped into 3 distinct groups which provides greater clarity.\n",
    "#We don’t know whats in these 3 dgroups but we will be able to use this info to conduct further research on predicting heart failure."
   ]
  },
  {
   "cell_type": "markdown",
   "id": "d5cdba55-eebf-4b84-961f-34d7cc36c00b",
   "metadata": {},
   "source": [
    "### Create a function called `get_clusters(k, data)` that finds the `k` clusters using K-Means on `data`. The function should return a DataFrame copy of `Data` that should include a new column containing the clusters found."
   ]
  },
  {
   "cell_type": "code",
   "execution_count": 16,
   "id": "0ebed305-2614-497b-9dd3-f9150d8623c2",
   "metadata": {},
   "outputs": [],
   "source": [
    "# Predicting clusters with k=4\n",
    "from sklearn.cluster import KMeans\n",
    "\n",
    "def get_clusters(k, data):\n",
    "    # Initialize the K-Means model\n",
    "    model = KMeans(n_clusters=k, random_state=0)\n",
    "\n",
    "    # Train the model\n",
    "    model.fit(data)\n",
    "\n",
    "    # Predict clusters\n",
    "    predictions = model.predict(data)\n",
    "\n",
    "    # Create return DataFrame with predicted clusters\n",
    "    data[\"class\"] = model.labels_\n",
    "\n",
    "    return data\n",
    "\n",
    "\n",
    "# # Initialize the k-means model\n",
    "# model = KMeans(n_clusters=3, random_state=10)\n",
    "\n",
    "# # Fit the model\n",
    "# model.fit(pca_cluster_heart_data)\n",
    "\n",
    "# # Predict clusters\n",
    "# predictions = model.predict(pca_cluster_heart_data)\n",
    "\n",
    "# # Add the predicted class column to the dataframe\n",
    "# pca_cluster_heart_data[\"class\"] = model.labels_\n",
    "# pca_cluster_heart_data.head()"
   ]
  },
  {
   "cell_type": "code",
   "execution_count": 17,
   "id": "29a34285-ab1d-423a-939c-87ebe3af1f20",
   "metadata": {},
   "outputs": [
    {
     "data": {
      "text/html": [
       "<div>\n",
       "<style scoped>\n",
       "    .dataframe tbody tr th:only-of-type {\n",
       "        vertical-align: middle;\n",
       "    }\n",
       "\n",
       "    .dataframe tbody tr th {\n",
       "        vertical-align: top;\n",
       "    }\n",
       "\n",
       "    .dataframe thead th {\n",
       "        text-align: right;\n",
       "    }\n",
       "</style>\n",
       "<table border=\"1\" class=\"dataframe\">\n",
       "  <thead>\n",
       "    <tr style=\"text-align: right;\">\n",
       "      <th></th>\n",
       "      <th>0</th>\n",
       "      <th>1</th>\n",
       "      <th>class</th>\n",
       "    </tr>\n",
       "  </thead>\n",
       "  <tbody>\n",
       "    <tr>\n",
       "      <th>0</th>\n",
       "      <td>39.275394</td>\n",
       "      <td>-18.942900</td>\n",
       "      <td>1</td>\n",
       "    </tr>\n",
       "    <tr>\n",
       "      <th>1</th>\n",
       "      <td>-55.512508</td>\n",
       "      <td>14.856096</td>\n",
       "      <td>2</td>\n",
       "    </tr>\n",
       "    <tr>\n",
       "      <th>2</th>\n",
       "      <td>28.083496</td>\n",
       "      <td>-18.036617</td>\n",
       "      <td>1</td>\n",
       "    </tr>\n",
       "    <tr>\n",
       "      <th>3</th>\n",
       "      <td>-39.118790</td>\n",
       "      <td>16.165144</td>\n",
       "      <td>2</td>\n",
       "    </tr>\n",
       "    <tr>\n",
       "      <th>4</th>\n",
       "      <td>17.281393</td>\n",
       "      <td>-9.966252</td>\n",
       "      <td>1</td>\n",
       "    </tr>\n",
       "    <tr>\n",
       "      <th>...</th>\n",
       "      <td>...</td>\n",
       "      <td>...</td>\n",
       "      <td>...</td>\n",
       "    </tr>\n",
       "    <tr>\n",
       "      <th>913</th>\n",
       "      <td>31.728767</td>\n",
       "      <td>-3.085989</td>\n",
       "      <td>1</td>\n",
       "    </tr>\n",
       "    <tr>\n",
       "      <th>914</th>\n",
       "      <td>-9.180921</td>\n",
       "      <td>-13.212041</td>\n",
       "      <td>0</td>\n",
       "    </tr>\n",
       "    <tr>\n",
       "      <th>915</th>\n",
       "      <td>7.168620</td>\n",
       "      <td>13.910880</td>\n",
       "      <td>3</td>\n",
       "    </tr>\n",
       "    <tr>\n",
       "      <th>916</th>\n",
       "      <td>-51.479530</td>\n",
       "      <td>12.435497</td>\n",
       "      <td>2</td>\n",
       "    </tr>\n",
       "    <tr>\n",
       "      <th>917</th>\n",
       "      <td>41.804062</td>\n",
       "      <td>-17.555275</td>\n",
       "      <td>1</td>\n",
       "    </tr>\n",
       "  </tbody>\n",
       "</table>\n",
       "<p>918 rows × 3 columns</p>\n",
       "</div>"
      ],
      "text/plain": [
       "             0          1  class\n",
       "0    39.275394 -18.942900      1\n",
       "1   -55.512508  14.856096      2\n",
       "2    28.083496 -18.036617      1\n",
       "3   -39.118790  16.165144      2\n",
       "4    17.281393  -9.966252      1\n",
       "..         ...        ...    ...\n",
       "913  31.728767  -3.085989      1\n",
       "914  -9.180921 -13.212041      0\n",
       "915   7.168620  13.910880      3\n",
       "916 -51.479530  12.435497      2\n",
       "917  41.804062 -17.555275      1\n",
       "\n",
       "[918 rows x 3 columns]"
      ]
     },
     "execution_count": 17,
     "metadata": {},
     "output_type": "execute_result"
    }
   ],
   "source": [
    "clusters = get_clusters(4, pd.DataFrame(tsne_features))\n",
    "clusters"
   ]
  },
  {
   "cell_type": "code",
   "execution_count": 24,
   "id": "9b0c9093-cc00-44f8-b521-ba62d77e3212",
   "metadata": {},
   "outputs": [
    {
     "data": {
      "image/png": "[encoded data removed]",
      "text/plain": [
       "<Figure size 1440x864 with 1 Axes>"
      ]
     },
     "metadata": {
      "needs_background": "light"
     },
     "output_type": "display_data"
    },
    {
     "data": {
      "text/plain": [
       "<Figure size 432x288 with 0 Axes>"
      ]
     },
     "metadata": {},
     "output_type": "display_data"
    }
   ],
   "source": [
    "# Visualize the clusters\n",
    "# def show_clusters(pca_cluster_heart_data):\n",
    "#     plt.scatter(df['Annual Income'], df['Spending Score'], c=clusters['class'])\n",
    "#     plt.xlabel('Annual Income')\n",
    "#     plt.ylabel('Spending Score')\n",
    "#     plt.show()\n",
    "\n",
    "colors = {0: 'blue', 1: 'yellow', 2: 'green', 3:'red', 4:'purple'}\n",
    "\n",
    "fig, ax = plt.subplots(figsize=(20,12))\n",
    "for n in clusters['class'].unique():\n",
    "    temp_df = clusters.loc[ clusters['class'] == n]\n",
    "    ax.scatter(x=temp_df[0], y=temp_df[1], c=colors[n], label=n)\n",
    "\n",
    "# plt.scatter(x=clusters[0], y=clusters[1], c=clusters['class'], label=clusters['class'])\n",
    "plt.xlabel('tsne 1')\n",
    "plt.ylabel('tsne 2')\n",
    "plt.title('Heart Failure Prediction')\n",
    "plt.legend()\n",
    "plt.show()\n",
    "plt.savefig(\"tsne_clusters.png\", dpi = 100)"
   ]
  },
  {
   "cell_type": "markdown",
   "id": "8559cf7f-9c66-4fdf-9186-3bfbb997eeed",
   "metadata": {},
   "source": []
  }
 ],
 "metadata": {
  "kernelspec": {
   "display_name": "Python 3",
   "language": "python",
   "name": "python3"
  },
  "language_info": {
   "codemirror_mode": {
    "name": "ipython",
    "version": 3
   },
   "file_extension": ".py",
   "mimetype": "text/x-python",
   "name": "python",
   "nbconvert_exporter": "python",
   "pygments_lexer": "ipython3",
   "version": "3.9.5"
  }
 },
 "nbformat": 4,
 "nbformat_minor": 5
}
