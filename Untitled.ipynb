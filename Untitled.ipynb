{
 "cells": [
  {
   "cell_type": "markdown",
   "id": "a1c3bffa-3c58-4776-8031-082e2abe2d27",
   "metadata": {
    "tags": []
   },
   "source": [
    "![image.png](heart.png)\n",
    "\n",
    "## **Heart Failure Prediction**\n",
    "The task of this project is to analyze dataset containing different characteristics of 918 patients to predict heart failures using Python, Machine Learning and data visualization tools. Utilize the pandas data visualization tools to show the correlation between the variables and find out the factors that are most significant factors in heart failure. Utilize machine learning model to create a model to assess the likelihood of a possible heart disease event.\n",
    "**Understanding the terms/characteristics in the dataset**\n",
    "**ChestPainType** - TA: Typical Angina - substernal chest pain precipitated by physical exertion or emotional stress and relieved with rest or nitroglycerin; ATA: Atypical Angina, NAP: Non-Anginal Pain, ASY: Asymptomatic\n",
    "**RestingBP** - resting blood pressure in mm Hg/ millimeters of mercury. A normal reading would be any blood pressure below 120/80 mm Hg and above 90/60 mm Hg in an adult.\n",
    "**Cholesterol** - Total or serum cholesterol measured in [mm/dl]. Below 200 mg/dL -  is desirable/normal; 200-239 mg/dL - borderline high; 240 mg/dL and above - high.\n",
    "RestingECG\n",
    "MaxHR\n",
    "Oldpeak\n",
    "\n",
    "## Predictions: \n",
    "This analysis is trying to find the best model that can detect if a patient will get a heart disease or not. To come up with a solutiom, I will be using the following models: \n",
    "- a LogisticRegression and \n",
    "- RandomForestClassifier. \n",
    "\n",
    "The logistic regression will be a better suited model for this dataset, because I am trying to predict whether the heart failure is going to happen or not. In addition, the features/variables in the dataset potentially highly correlated. The Logistic regression performs well on such data. \n",
    "\n",
    "The random forest fits a number of decision tree classifiers on various sub-samples of the dataset and uses averaging to improve the predictive accuracy and control over-fitting. But in this case, I predict, using the random forest will be overfitting and logistic regression will be more fitted since the heart data that I was provided with is strongly linked together and highly correlated."
   ]
  },
  {
   "cell_type": "markdown",
   "id": "b9b28a8b-f958-4207-bb0a-2ee0b42e6c19",
   "metadata": {},
   "source": [
    "## Step I: Data Preprocessing"
   ]
  },
  {
   "cell_type": "code",
   "execution_count": 1,
   "id": "823976e0-05d1-49aa-94b0-fb9e9d940d18",
   "metadata": {},
   "outputs": [
    {
     "ename": "ImportError",
     "evalue": "cannot import name 'animation' from partially initialized module 'matplotlib' (most likely due to a circular import) (c:\\users\\aconnolly\\appdata\\local\\programs\\python\\python39\\lib\\site-packages\\matplotlib\\__init__.py)",
     "output_type": "error",
     "traceback": [
      "\u001b[1;31m---------------------------------------------------------------------------\u001b[0m",
      "\u001b[1;31mImportError\u001b[0m                               Traceback (most recent call last)",
      "\u001b[1;32m<ipython-input-1-b4c1ae91ccfe>\u001b[0m in \u001b[0;36m<module>\u001b[1;34m\u001b[0m\n\u001b[0;32m      2\u001b[0m \u001b[1;32mimport\u001b[0m \u001b[0mpandas\u001b[0m \u001b[1;32mas\u001b[0m \u001b[0mpd\u001b[0m\u001b[1;33m\u001b[0m\u001b[1;33m\u001b[0m\u001b[0m\n\u001b[0;32m      3\u001b[0m \u001b[1;31m# import matplotlib as plt\u001b[0m\u001b[1;33m\u001b[0m\u001b[1;33m\u001b[0m\u001b[1;33m\u001b[0m\u001b[0m\n\u001b[1;32m----> 4\u001b[1;33m \u001b[1;32mimport\u001b[0m \u001b[0mmatplotlib\u001b[0m\u001b[1;33m.\u001b[0m\u001b[0mpyplot\u001b[0m \u001b[1;32mas\u001b[0m \u001b[0mplt\u001b[0m\u001b[1;33m\u001b[0m\u001b[1;33m\u001b[0m\u001b[0m\n\u001b[0m\u001b[0;32m      5\u001b[0m \u001b[1;32mimport\u001b[0m \u001b[0mnumpy\u001b[0m \u001b[1;32mas\u001b[0m \u001b[0mnp\u001b[0m\u001b[1;33m\u001b[0m\u001b[1;33m\u001b[0m\u001b[0m\n\u001b[0;32m      6\u001b[0m \u001b[1;32mfrom\u001b[0m \u001b[0mpathlib\u001b[0m \u001b[1;32mimport\u001b[0m \u001b[0mPath\u001b[0m\u001b[1;33m\u001b[0m\u001b[1;33m\u001b[0m\u001b[0m\n",
      "\u001b[1;32mc:\\users\\aconnolly\\appdata\\local\\programs\\python\\python39\\lib\\site-packages\\matplotlib\\__init__.py\u001b[0m in \u001b[0;36m<module>\u001b[1;34m\u001b[0m\n\u001b[0;32m    105\u001b[0m \u001b[1;31m# cbook must import matplotlib only within function\u001b[0m\u001b[1;33m\u001b[0m\u001b[1;33m\u001b[0m\u001b[1;33m\u001b[0m\u001b[0m\n\u001b[0;32m    106\u001b[0m \u001b[1;31m# definitions, so it is safe to import from it here.\u001b[0m\u001b[1;33m\u001b[0m\u001b[1;33m\u001b[0m\u001b[1;33m\u001b[0m\u001b[0m\n\u001b[1;32m--> 107\u001b[1;33m \u001b[1;32mfrom\u001b[0m \u001b[1;33m.\u001b[0m \u001b[1;32mimport\u001b[0m \u001b[0m_api\u001b[0m\u001b[1;33m,\u001b[0m \u001b[0mcbook\u001b[0m\u001b[1;33m,\u001b[0m \u001b[0mdocstring\u001b[0m\u001b[1;33m,\u001b[0m \u001b[0mrcsetup\u001b[0m\u001b[1;33m\u001b[0m\u001b[1;33m\u001b[0m\u001b[0m\n\u001b[0m\u001b[0;32m    108\u001b[0m \u001b[1;32mfrom\u001b[0m \u001b[0mmatplotlib\u001b[0m\u001b[1;33m.\u001b[0m\u001b[0mcbook\u001b[0m \u001b[1;32mimport\u001b[0m \u001b[0mMatplotlibDeprecationWarning\u001b[0m\u001b[1;33m,\u001b[0m \u001b[0msanitize_sequence\u001b[0m\u001b[1;33m\u001b[0m\u001b[1;33m\u001b[0m\u001b[0m\n\u001b[0;32m    109\u001b[0m \u001b[1;32mfrom\u001b[0m \u001b[0mmatplotlib\u001b[0m\u001b[1;33m.\u001b[0m\u001b[0mcbook\u001b[0m \u001b[1;32mimport\u001b[0m \u001b[0mmplDeprecation\u001b[0m  \u001b[1;31m# deprecated\u001b[0m\u001b[1;33m\u001b[0m\u001b[1;33m\u001b[0m\u001b[0m\n",
      "\u001b[1;32mc:\\users\\aconnolly\\appdata\\local\\programs\\python\\python39\\lib\\site-packages\\matplotlib\\rcsetup.py\u001b[0m in \u001b[0;36m<module>\u001b[1;34m\u001b[0m\n\u001b[0;32m     22\u001b[0m \u001b[1;32mimport\u001b[0m \u001b[0mnumpy\u001b[0m \u001b[1;32mas\u001b[0m \u001b[0mnp\u001b[0m\u001b[1;33m\u001b[0m\u001b[1;33m\u001b[0m\u001b[0m\n\u001b[0;32m     23\u001b[0m \u001b[1;33m\u001b[0m\u001b[0m\n\u001b[1;32m---> 24\u001b[1;33m \u001b[1;32mfrom\u001b[0m \u001b[0mmatplotlib\u001b[0m \u001b[1;32mimport\u001b[0m \u001b[0m_api\u001b[0m\u001b[1;33m,\u001b[0m \u001b[0manimation\u001b[0m\u001b[1;33m,\u001b[0m \u001b[0mcbook\u001b[0m\u001b[1;33m\u001b[0m\u001b[1;33m\u001b[0m\u001b[0m\n\u001b[0m\u001b[0;32m     25\u001b[0m \u001b[1;32mfrom\u001b[0m \u001b[0mmatplotlib\u001b[0m\u001b[1;33m.\u001b[0m\u001b[0mcbook\u001b[0m \u001b[1;32mimport\u001b[0m \u001b[0mls_mapper\u001b[0m\u001b[1;33m\u001b[0m\u001b[1;33m\u001b[0m\u001b[0m\n\u001b[0;32m     26\u001b[0m \u001b[1;32mfrom\u001b[0m \u001b[0mmatplotlib\u001b[0m\u001b[1;33m.\u001b[0m\u001b[0mcolors\u001b[0m \u001b[1;32mimport\u001b[0m \u001b[0mColormap\u001b[0m\u001b[1;33m,\u001b[0m \u001b[0mis_color_like\u001b[0m\u001b[1;33m\u001b[0m\u001b[1;33m\u001b[0m\u001b[0m\n",
      "\u001b[1;31mImportError\u001b[0m: cannot import name 'animation' from partially initialized module 'matplotlib' (most likely due to a circular import) (c:\\users\\aconnolly\\appdata\\local\\programs\\python\\python39\\lib\\site-packages\\matplotlib\\__init__.py)"
     ]
    }
   ],
   "source": [
    "# Import our dependencies\n",
    "import pandas as pd\n",
    "# import matplotlib as plt\n",
    "import matplotlib.pyplot as plt\n",
    "import numpy as np\n",
    "from pathlib import Path\n",
    "import seaborn as sns\n",
    "import pyplot as plt\n",
    "from sklearn.datasets import make_blobs\n",
    "from sklearn.model_selection import train_test_split\n",
    "from sklearn.metrics import mean_squared_error, r2_score\n",
    "from sklearn.preprocessing import StandardScaler, LabelEncoder"
   ]
  },
  {
   "cell_type": "code",
   "execution_count": null,
   "id": "39327bef-ed74-4a9a-aab0-7684defae9fd",
   "metadata": {},
   "outputs": [],
   "source": [
    "#  Import and read the heart.csv.\n",
    "heart = pd.read_csv(\"heart.csv\")\n",
    "heart"
   ]
  },
  {
   "cell_type": "code",
   "execution_count": null,
   "id": "cdb31da2-565b-4988-a378-9f1a081ce682",
   "metadata": {
    "tags": []
   },
   "outputs": [],
   "source": [
    "heart.dtypes"
   ]
  },
  {
   "cell_type": "code",
   "execution_count": null,
   "id": "613b087d-9ed3-4066-bbc4-47494255d67f",
   "metadata": {},
   "outputs": [],
   "source": [
    "heart.shape"
   ]
  },
  {
   "cell_type": "code",
   "execution_count": null,
   "id": "b78ebc29-c9d9-42ca-bdea-8307f56c9fa3",
   "metadata": {},
   "outputs": [],
   "source": [
    "#Display statistical description of the features\n",
    "heart.describe()"
   ]
  },
  {
   "cell_type": "code",
   "execution_count": null,
   "id": "2b2f0522-3f9e-4773-a9b8-72e5fcc17611",
   "metadata": {},
   "outputs": [],
   "source": [
    "heart['FastingBS'] = heart['FastingBS'].astype(str)\n",
    "heart['HeartDisease'] = heart['HeartDisease'].astype(str)"
   ]
  },
  {
   "cell_type": "code",
   "execution_count": null,
   "id": "2f3cb500-0514-4437-a872-496192574c08",
   "metadata": {},
   "outputs": [],
   "source": [
    "# Defining plot design\n",
    "def plot_design():\n",
    "    plt.xlabel('')\n",
    "    plt.ylabel('')\n",
    "    plt.yticks(fontsize=15, color='black')\n",
    "    plt.xticks(fontsize=15, color='black')\n",
    "    plt.box(False)\n",
    "    plt.title(i[1], fontsize=24, color='black')\n",
    "    plt.tight_layout(pad=5.0)"
   ]
  },
  {
   "cell_type": "code",
   "execution_count": null,
   "id": "ac94e4fb-8ba2-4450-a57a-057bd3f11c78",
   "metadata": {},
   "outputs": [],
   "source": [
    "# Select categorical variables\n",
    "categ = heart.select_dtypes(include=object).columns\n",
    "\n",
    "# Visualize\n",
    "fig, ax = plt.subplots(figsize =(15, 15))\n",
    "fig.patch.set_facecolor('#CAD5E0')\n",
    "mpl.rcParams['font.family'] = 'TeX Gyre Heros'\n",
    "\n",
    "# Loop columns\n",
    "for i in (enumerate(categ)):\n",
    "    plt.subplot(4, 2, i[0]+1)\n",
    "    sns.countplot(y = i[1], data = heart, order=heart[i[1]].value_counts().index, palette='Greens_r', edgecolor='black')\n",
    "    plot_design()\n",
    "    plt.suptitle('Categorical Variables', fontsize=40)"
   ]
  },
  {
   "cell_type": "code",
   "execution_count": null,
   "id": "8f4054a5-f962-4a2e-8ebc-decbf7a0ac16",
   "metadata": {},
   "outputs": [],
   "source": [
    "# Check the total missing values in each column. A field with a NULL value is the one that has been left blank during the record creation.\n",
    "print(\"Total NULL Values in each columns\")\n",
    "print(\"*********************************\")\n",
    "print(heart.isnull().sum())"
   ]
  },
  {
   "cell_type": "code",
   "execution_count": null,
   "id": "e98eabe0-8c7d-4252-9021-75daad7e360e",
   "metadata": {},
   "outputs": [],
   "source": [
    "#cleaning the dataset by removing all zeroes in the column \"cholesterol\" as there is no 0 cholesterole.\n",
    "clean_df=heart[heart['Cholesterol'] !=0]\n",
    "clean_df"
   ]
  },
  {
   "cell_type": "markdown",
   "id": "4363270e-6092-4b2b-8bcb-627c6441ad17",
   "metadata": {},
   "source": [
    "## Step II: Machine Learning model\n"
   ]
  },
  {
   "cell_type": "code",
   "execution_count": null,
   "id": "d39199d0-1139-4886-9339-265873a1924d",
   "metadata": {},
   "outputs": [],
   "source": [
    "# Convert categorical data to numeric and separate target feature for training data"
   ]
  },
  {
   "cell_type": "code",
   "execution_count": null,
   "id": "f6928153-e94f-4c06-9468-c26f0af48d54",
   "metadata": {},
   "outputs": [],
   "source": [
    "# Drop the target column\n",
    "\n",
    "X_train = clean_df.drop(\"target\", axis=1).copy()\n",
    "X_test = test_df.drop(\"target\", axis=1).copy()\n",
    "y_train = train_df[\"target\"].copy()\n",
    "y_test = test_df[\"target\"].copy()\n",
    "\n",
    "\n",
    "X = clean_df.drop('HeartDisease', axis=1)\n",
    "y = clean_df['HeartDisease']\n",
    "target_names = [\"negative\", \"positive\"]"
   ]
  },
  {
   "cell_type": "code",
   "execution_count": null,
   "id": "23e6cac3-6a0b-4d90-bee5-09c7f9f3e714",
   "metadata": {},
   "outputs": [],
   "source": [
    "# Prepare the data\n",
    "X_train, X_test, y_train, y_test = train_test_split(X, y, random_state=21)\n",
    "scaler = StandardScaler().fit(X_train)\n",
    "X_train_scaled = scaler.transform(X_train)\n",
    "X_test_scaled = scaler.transform(X_test)"
   ]
  },
  {
   "cell_type": "code",
   "execution_count": null,
   "id": "c830cd4b-691c-4940-b674-03d85b50d371",
   "metadata": {},
   "outputs": [],
   "source": []
  },
  {
   "cell_type": "code",
   "execution_count": null,
   "id": "c88339a9-4e16-43f2-addc-5f925052b301",
   "metadata": {},
   "outputs": [],
   "source": []
  },
  {
   "cell_type": "markdown",
   "id": "0da363d3-67e6-4396-a53f-0ebfa50cf28c",
   "metadata": {},
   "source": [
    "## Data Visualization"
   ]
  },
  {
   "cell_type": "code",
   "execution_count": null,
   "id": "a2adf1f1-5e69-46d5-88a0-5150d07440eb",
   "metadata": {},
   "outputs": [],
   "source": [
    "#  Group by gender and get the number to plot\n",
    "distr_gender = clean_df.groupby([\"Sex\"])\n",
    "gender_df= pd.DataFrame(distr_gender.size())\n",
    "gender_df\n",
    "\n",
    "# Create the dataframe with total count of Female and Male\n",
    "gender_df.columns = [\"Total Count\"]\n",
    "gender_df"
   ]
  },
  {
   "cell_type": "code",
   "execution_count": null,
   "id": "3bd97330-d271-42c7-8c1d-a645ee0f1497",
   "metadata": {},
   "outputs": [],
   "source": [
    "# # Gender Breakdown\n",
    "colors = [\"yellowgreen\", \"lightcoral\"]\n",
    "#define how the pie will devide/explode\n",
    "explode = (0.1, 0)\n",
    "gender_df.plot.pie(y='Total Count', colors = colors, startangle=120, explode = explode, shadow = True, autopct=\"%1.1f%%\")\n",
    "plt.title(\"Distribution of Female vs. Male\")\n",
    "plt.axis(\"equal\")\n",
    "plt.show()"
   ]
  },
  {
   "cell_type": "code",
   "execution_count": null,
   "id": "2844ac1d-d525-4f43-912b-3b9b0cf07abf",
   "metadata": {},
   "outputs": [],
   "source": []
  },
  {
   "cell_type": "code",
   "execution_count": null,
   "id": "fc481c7e-c960-4d44-87ed-4b263506e8eb",
   "metadata": {},
   "outputs": [],
   "source": []
  }
 ],
 "metadata": {
  "kernelspec": {
   "display_name": "Python 3",
   "language": "python",
   "name": "python3"
  },
  "language_info": {
   "codemirror_mode": {
    "name": "ipython",
    "version": 3
   },
   "file_extension": ".py",
   "mimetype": "text/x-python",
   "name": "python",
   "nbconvert_exporter": "python",
   "pygments_lexer": "ipython3",
   "version": "3.9.5"
  }
 },
 "nbformat": 4,
 "nbformat_minor": 5
}
